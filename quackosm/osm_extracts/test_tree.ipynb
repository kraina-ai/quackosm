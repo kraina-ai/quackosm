{
 "cells": [
  {
   "cell_type": "code",
   "execution_count": null,
   "metadata": {},
   "outputs": [],
   "source": [
    "from quackosm.osm_extracts.bbbike import _load_bbbike_index\n",
    "from quackosm.osm_extracts.geofabrik import _load_geofabrik_index\n",
    "from quackosm.osm_extracts.osm_fr import _load_openstreetmap_fr_index\n",
    "from quackosm.osm_extracts.extract import OsmExtractSource\n",
    "import pandas as pd\n",
    "from rich.tree import Tree\n",
    "from rich.text import Text\n",
    "\n",
    "# idx = _load_geofabrik_index()\n",
    "# idx"
   ]
  },
  {
   "cell_type": "code",
   "execution_count": null,
   "metadata": {},
   "outputs": [],
   "source": [
    "x = _load_geofabrik_index()\n",
    "x"
   ]
  },
  {
   "cell_type": "code",
   "execution_count": null,
   "metadata": {},
   "outputs": [],
   "source": [
    "x.loc[x[\"id\"].str.startswith(\"us/\"), \"parent\"] = \"us\""
   ]
  },
  {
   "cell_type": "code",
   "execution_count": null,
   "metadata": {},
   "outputs": [],
   "source": [
    "def create_branch(parent_id: str, tree: Tree, index: pd.DataFrame, depth: int = 0) -> None:\n",
    "    matching_children = index[index.parent == parent_id].sort_values(by=\"name\")\n",
    "    # matched_ids = set(matching_children[\"id\"])\n",
    "    for matching_child in matching_children.to_dict(orient=\"records\"):\n",
    "        # text_filename = Text(path.name, \"green\")\n",
    "        # text_filename.highlight_regex(r\"\\..*$\", \"bold red\")\n",
    "        # text_filename.stylize(f\"link file://{path}\")\n",
    "        # file_size = path.stat().st_size\n",
    "        # text_filename.append(f\" ({decimal(file_size)})\", \"blue\")\n",
    "        # icon = \"🐍 \" if path.suffix == \".py\" else \"📄 \"\n",
    "        # tree.add(Text(icon) + text_filename)\n",
    "        # branch = tree.add(matching_child[\"name\"])\n",
    "        branch = tree.add(f\":globe_with_meridians: {matching_child['name']}\")\n",
    "        create_branch(matching_child[\"id\"], branch, index, depth + 1)\n",
    "\n",
    "    if depth == 0:\n",
    "        loose_parents = set(index[\"parent\"]).difference(index[\"id\"]).difference([parent_id])\n",
    "        for loose_parent in loose_parents:\n",
    "            branch = tree.add(loose_parent)\n",
    "            create_branch(loose_parent, branch, index, depth + 1)\n",
    "\n",
    "    # if depth == 0:\n",
    "    #     unmatched_children = index[~index.id.isin(matched_ids)].sort_values(by=\"name\")\n",
    "\n",
    "    # return matched_ids\n",
    "\n",
    "\n",
    "root_id = OsmExtractSource.geofabrik.value\n",
    "geofabrik_root = Tree(root_id)\n",
    "create_branch(root_id, geofabrik_root, _load_geofabrik_index())\n",
    "\n",
    "root_id = OsmExtractSource.bbbike.value\n",
    "bbbike_root = Tree(root_id)\n",
    "create_branch(root_id, bbbike_root, _load_bbbike_index())\n",
    "\n",
    "root_id = OsmExtractSource.osm_fr.value\n",
    "osm_fr_root = Tree(root_id)\n",
    "create_branch(root_id, osm_fr_root, _load_openstreetmap_fr_index())\n",
    "\n",
    "# idx = _load_bbbike_index()\n",
    "# root_id = OsmExtractSource.bbbike.value\n",
    "\n",
    "# idx = _load_openstreetmap_fr_index()\n",
    "# root_id = OsmExtractSource.osm_fr.value\n",
    "\n",
    "\n",
    "# def create_branch(parent_id: str, tree: Tree, index: pd.DataFrame) -> None:\n",
    "#     matching_children = index[index.parent == parent_id].sort_values(by=\"name\")\n",
    "#     for matching_child in matching_children.to_dict(orient=\"records\"):\n",
    "#         branch = tree.add(matching_child[\"name\"])\n",
    "#         create_branch(matching_child[\"id\"], branch, index)\n",
    "\n",
    "\n",
    "# create_branch(root_id, root, idx)"
   ]
  },
  {
   "cell_type": "code",
   "execution_count": null,
   "metadata": {},
   "outputs": [],
   "source": [
    "geofabrik_root"
   ]
  },
  {
   "cell_type": "code",
   "execution_count": null,
   "metadata": {},
   "outputs": [],
   "source": [
    "bbbike_root"
   ]
  },
  {
   "cell_type": "code",
   "execution_count": null,
   "metadata": {},
   "outputs": [],
   "source": [
    "osm_fr_root"
   ]
  },
  {
   "cell_type": "code",
   "execution_count": null,
   "metadata": {},
   "outputs": [],
   "source": [
    "import pandas as pd\n",
    "\n",
    "\n",
    "tree = {}\n",
    "\n",
    "for _, row in idx.iterrows():\n",
    "    if pd.isna(row.parent):\n",
    "        continue\n",
    "    elif row.parent not in tree:\n",
    "        tree[row.parent] = []\n",
    "\n",
    "    tree[row.parent].append(row.id)\n",
    "\n",
    "tree"
   ]
  },
  {
   "cell_type": "code",
   "execution_count": null,
   "metadata": {},
   "outputs": [],
   "source": []
  },
  {
   "cell_type": "code",
   "execution_count": null,
   "metadata": {},
   "outputs": [],
   "source": [
    "\"\"\"\n",
    "Demonstrates how to display a tree of files / directories with the Tree renderable.\n",
    "\"\"\"\n",
    "\n",
    "import os\n",
    "import pathlib\n",
    "import sys\n",
    "\n",
    "from rich import print\n",
    "from rich.filesize import decimal\n",
    "from rich.markup import escape\n",
    "from rich.text import Text\n",
    "from rich.tree import Tree\n",
    "\n",
    "\n",
    "def walk_directory(directory: pathlib.Path, tree: Tree) -> None:\n",
    "    \"\"\"Recursively build a Tree with directory contents.\"\"\"\n",
    "    # Sort dirs first then by filename\n",
    "    paths = sorted(\n",
    "        pathlib.Path(directory).iterdir(),\n",
    "        key=lambda path: (path.is_file(), path.name.lower()),\n",
    "    )\n",
    "    for path in paths:\n",
    "        # Remove hidden files\n",
    "        if path.name.startswith(\".\"):\n",
    "            continue\n",
    "        if path.is_dir():\n",
    "            style = \"dim\" if path.name.startswith(\"__\") else \"\"\n",
    "            branch = tree.add(\n",
    "                f\"[bold magenta]:open_file_folder: [link file://{path}]{escape(path.name)}\",\n",
    "                style=style,\n",
    "                guide_style=style,\n",
    "            )\n",
    "            walk_directory(path, branch)\n",
    "        else:\n",
    "            text_filename = Text(path.name, \"green\")\n",
    "            text_filename.highlight_regex(r\"\\..*$\", \"bold red\")\n",
    "            text_filename.stylize(f\"link file://{path}\")\n",
    "            file_size = path.stat().st_size\n",
    "            text_filename.append(f\" ({decimal(file_size)})\", \"blue\")\n",
    "            icon = \"🐍 \" if path.suffix == \".py\" else \"📄 \"\n",
    "            tree.add(Text(icon) + text_filename)\n",
    "\n",
    "\n",
    "try:\n",
    "    directory = pathlib.Path(\".\").resolve().parent.parent\n",
    "except IndexError:\n",
    "    print(\"[b]Usage:[/] python tree.py <DIRECTORY>\")\n",
    "else:\n",
    "    tree = Tree(\n",
    "        f\":open_file_folder: [link file://{directory}]{directory}\",\n",
    "        guide_style=\"bold bright_blue\",\n",
    "    )\n",
    "    walk_directory(pathlib.Path(directory), tree)\n",
    "    print(tree)"
   ]
  }
 ],
 "metadata": {
  "kernelspec": {
   "display_name": ".venv",
   "language": "python",
   "name": "python3"
  },
  "language_info": {
   "codemirror_mode": {
    "name": "ipython",
    "version": 3
   },
   "file_extension": ".py",
   "mimetype": "text/x-python",
   "name": "python",
   "nbconvert_exporter": "python",
   "pygments_lexer": "ipython3",
   "version": "3.10.12"
  }
 },
 "nbformat": 4,
 "nbformat_minor": 2
}
