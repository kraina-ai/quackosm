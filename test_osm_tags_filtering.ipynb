{
 "cells": [
  {
   "cell_type": "code",
   "execution_count": null,
   "metadata": {},
   "outputs": [],
   "source": [
    "import duckdb"
   ]
  },
  {
   "cell_type": "code",
   "execution_count": null,
   "metadata": {},
   "outputs": [],
   "source": [
    "duckdb.load_extension('spatial')"
   ]
  },
  {
   "cell_type": "code",
   "execution_count": null,
   "metadata": {},
   "outputs": [],
   "source": [
    "duckdb.sql(\n",
    "    \"\"\"\n",
    "    SELECT\n",
    "        kind, id, tags\n",
    "    FROM\n",
    "        ST_ReadOSM('tests/test_files/monaco.osm.pbf')\n",
    "    WHERE\n",
    "        tags IS NOT NULL\n",
    "    \"\"\"\n",
    ")"
   ]
  },
  {
   "cell_type": "code",
   "execution_count": null,
   "metadata": {},
   "outputs": [],
   "source": [
    "TAGS_FILTERS_EXAMPLES = [\n",
    "    {\"building\": True},\n",
    "    {\"amenity\": True, \"leisure\": True},\n",
    "    {\"amenity\": \"parking\", \"leisure\": [\"park\", \"garden\"], \"office\": True},\n",
    "    {\"office\": False},\n",
    "    {\"building\": True, \"office\": False},\n",
    "    {\"name:en\": True},\n",
    "    {\"name:*\": True},\n",
    "    {\"name:*\": False},\n",
    "    {\"*\": True},\n",
    "    {\"*\": False},\n",
    "    {\"name:*\": True, \"name:en\": False},\n",
    "    {\"building\": True, \"addr:*\": False},\n",
    "    {\"building\": True, \"addr:*\": True},\n",
    "    {\"building\": True, \"addr:*\": True, \"source:*\": False},\n",
    "]"
   ]
  },
  {
   "cell_type": "code",
   "execution_count": null,
   "metadata": {},
   "outputs": [],
   "source": [
    "SQL_EXAMPLES_NO_STAR = [\n",
    "    \"(list_contains(map_keys(tags), 'building'))\",\n",
    "    \"((list_contains(map_keys(tags), 'amenity')) OR (list_contains(map_keys(tags), 'leisure')))\",\n",
    "    # \"((tag_key = 'amenity' and tag_value = 'parking') OR (tag_key = 'leisure' and tag_value in ('park', 'garden')) OR (tag_key = 'office'))\",\n",
    "    # \"(tag_key != 'office')\",\n",
    "    # \"((tag_key = 'building')) AND ((tag_key != 'office'))\",\n",
    "    # \"(tag_key = 'name:en')\"\n",
    "]"
   ]
  },
  {
   "cell_type": "code",
   "execution_count": null,
   "metadata": {},
   "outputs": [],
   "source": [
    "for where_filter in SQL_EXAMPLES_NO_STAR:\n",
    "    print(\n",
    "        duckdb.sql(\n",
    "            f\"\"\"\n",
    "            SELECT\n",
    "                kind, id, tags\n",
    "            FROM\n",
    "                ST_ReadOSM('tests/test_files/monaco.osm.pbf')\n",
    "            WHERE\n",
    "                tags IS NOT NULL\n",
    "                AND {where_filter}\n",
    "            \"\"\"\n",
    "        ).sql_query()\n",
    "    )\n",
    "    print(\n",
    "        duckdb.sql(\n",
    "            f\"\"\"\n",
    "            SELECT\n",
    "                kind, id, tags\n",
    "            FROM\n",
    "                ST_ReadOSM('tests/test_files/monaco.osm.pbf')\n",
    "            WHERE\n",
    "                tags IS NOT NULL\n",
    "                AND {where_filter}\n",
    "            \"\"\"\n",
    "        )\n",
    "    )"
   ]
  }
 ],
 "metadata": {
  "kernelspec": {
   "display_name": ".venv",
   "language": "python",
   "name": "python3"
  },
  "language_info": {
   "codemirror_mode": {
    "name": "ipython",
    "version": 3
   },
   "file_extension": ".py",
   "mimetype": "text/x-python",
   "name": "python",
   "nbconvert_exporter": "python",
   "pygments_lexer": "ipython3",
   "version": "3.10.12"
  }
 },
 "nbformat": 4,
 "nbformat_minor": 2
}
