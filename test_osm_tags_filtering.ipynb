{
 "cells": [
  {
   "cell_type": "code",
   "execution_count": null,
   "metadata": {},
   "outputs": [],
   "source": [
    "import duckdb\n",
    "from quackosm import PbfFileReader"
   ]
  },
  {
   "cell_type": "code",
   "execution_count": null,
   "metadata": {},
   "outputs": [],
   "source": [
    "duckdb.load_extension('spatial')"
   ]
  },
  {
   "cell_type": "code",
   "execution_count": null,
   "metadata": {},
   "outputs": [],
   "source": [
    "duckdb.sql(\n",
    "    \"\"\"\n",
    "    SELECT\n",
    "        kind, id, tags\n",
    "    FROM\n",
    "        ST_ReadOSM('tests/test_files/monaco.osm.pbf')\n",
    "    WHERE\n",
    "        tags IS NOT NULL\n",
    "    \"\"\"\n",
    ")"
   ]
  },
  {
   "cell_type": "code",
   "execution_count": null,
   "metadata": {},
   "outputs": [],
   "source": [
    "def _sql_escape(value: str) -> str:\n",
    "    \"\"\"Escape value for SQL query.\"\"\"\n",
    "    return value.replace(\"'\", \"''\")"
   ]
  },
  {
   "cell_type": "code",
   "execution_count": null,
   "metadata": {},
   "outputs": [],
   "source": [
    "# { \"*speed\": \"*0\", \"highway\": \"primary\" }\n",
    "speed_tags = duckdb.sql(\n",
    "    \"\"\"\n",
    "    WITH distinct_tags AS (\n",
    "        SELECT\n",
    "            DISTINCT unnest(map_keys(tags)) tag\n",
    "        FROM\n",
    "            ST_ReadOSM('tests/test_files/monaco.osm.pbf')\n",
    "        WHERE\n",
    "            tags IS NOT NULL\n",
    "    )\n",
    "    SELECT\n",
    "        tag\n",
    "    FROM\n",
    "        distinct_tags\n",
    "    WHERE\n",
    "        tag LIKE '%speed'\n",
    "    \"\"\"\n",
    ").fetchnumpy()[\"tag\"]\n",
    "\n",
    "sql_where_clauses = [\n",
    "    f\"\"\"(list_contains(map_keys(tags), '{_sql_escape('highway')}') AND list_extract(map_extract(tags, '{_sql_escape('highway')}'), 1) = 'primary')\"\"\"\n",
    "]\n",
    "for speed_tag in speed_tags:\n",
    "    sql_where_clauses.append(\n",
    "        f\"(list_contains(map_keys(tags), '{_sql_escape(speed_tag)}') AND list_extract(map_extract(tags, '{_sql_escape(speed_tag)}'), 1) LIKE '%0')\"\n",
    "    )"
   ]
  },
  {
   "cell_type": "code",
   "execution_count": null,
   "metadata": {},
   "outputs": [],
   "source": [
    "r = duckdb.sql(\n",
    "    f\"\"\"\n",
    "    SELECT\n",
    "        *\n",
    "    FROM\n",
    "        ST_ReadOSM('tests/test_files/monaco.osm.pbf')\n",
    "    WHERE\n",
    "        (\n",
    "            (\n",
    "                kind = 'node'\n",
    "                AND lat IS NOT NULL\n",
    "                AND lon IS NOT NULL\n",
    "            )\n",
    "            OR\n",
    "            (\n",
    "                kind = 'way'\n",
    "                AND len(refs) >= 2\n",
    "            )\n",
    "            OR\n",
    "            (\n",
    "                kind = 'relation' AND len(refs) > 0\n",
    "                AND list_contains(map_keys(tags), 'type')\n",
    "                AND list_has_any(map_extract(tags, 'type'), ['boundary', 'multipolygon'])\n",
    "            )\n",
    "        )\n",
    "        AND tags IS NOT NULL\n",
    "        AND ({' OR '.join(sql_where_clauses)})\n",
    "    ORDER BY kind, id\n",
    "    \"\"\"\n",
    ")\n",
    "print(r.sql_query())\n",
    "r"
   ]
  },
  {
   "cell_type": "code",
   "execution_count": null,
   "metadata": {},
   "outputs": [],
   "source": [
    "TAGS_FILTERS_EXAMPLES = [\n",
    "    # None,\n",
    "    {\"building\": True},\n",
    "    {\"amenity\": True, \"leisure\": True},\n",
    "    {\"amenity\": \"parking\", \"leisure\": [\"park\", \"garden\"], \"office\": True},\n",
    "    {\"office\": False},\n",
    "    {\"building\": True, \"office\": False},\n",
    "    {\"name:en\": True},\n",
    "    {\"name:*\": True},\n",
    "    {\"name:*\": False},\n",
    "    {\"*\": True},\n",
    "    {\"*\": False},\n",
    "    {\"building\": True, \"addr:*\": False},\n",
    "    {\"building\": True, \"addr:*\": True},\n",
    "    {\"building\": True, \"addr:*\": True, \"source:*\": False},\n",
    "    { \"name:*\": \"Monaco\" },\n",
    "    { \"name:*\": [\"Monaco\", \"France\"] },\n",
    "    { \"highway\": \"primary\", \"maxspeed\": False },\n",
    "    { \"highway\": \"*ary\" },\n",
    "    { \"highway\": \"*ary\", \"maxspeed\": False },\n",
    "    { \"*speed\": \"*0\" },\n",
    "    { \"*speed\": \"*0\", \"railway\": False, \"waterway\": False },\n",
    "    { \"*speed\": [\"*0\", \"90\"] },\n",
    "    { \"*speed\": \"*0\", \"highway\": \"primary\" },\n",
    "    { \"*speed\": \"*0\", \"highspeed\": True },\n",
    "]"
   ]
  },
  {
   "cell_type": "code",
   "execution_count": null,
   "metadata": {},
   "outputs": [],
   "source": [
    "flat_results = []\n",
    "for tags_filter_example in TAGS_FILTERS_EXAMPLES:\n",
    "    print(tags_filter_example)\n",
    "    reader = PbfFileReader(tags_filter=tags_filter_example, silent_mode=True)\n",
    "    flat_results.append(reader.get_features_gdf(file_paths='tests/test_files/monaco.osm.pbf', ignore_cache=True))\n",
    "    print()"
   ]
  },
  {
   "cell_type": "code",
   "execution_count": null,
   "metadata": {},
   "outputs": [],
   "source": [
    "flat_results[22].sort_index()"
   ]
  },
  {
   "cell_type": "code",
   "execution_count": null,
   "metadata": {},
   "outputs": [],
   "source": [
    "flat_results[-1].sort_index()"
   ]
  },
  {
   "cell_type": "code",
   "execution_count": null,
   "metadata": {},
   "outputs": [],
   "source": [
    "duckdb.sql(\n",
    "    f\"\"\"\n",
    "    SELECT\n",
    "        kind, id, list_extract(map_extract(tags, 'maxspeed'), 1) as \"maxspeed\",  list_extract(map_extract(tags, 'source:maxspeed'), 1) as \"source:maxspeed_2\",\n",
    "    FROM\n",
    "        ST_ReadOSM('tests/test_files/monaco.osm.pbf')\n",
    "    WHERE\n",
    "        tags IS NOT NULL\n",
    "        AND (list_extract(map_extract(tags, 'def:highway=motorway;maxspeed'), 1) LIKE '%0') OR (list_extract(map_extract(tags, 'def:highway=primary|highway=secondary|highway=tertiary;maxspeed'), 1) LIKE '%0') OR (list_extract(map_extract(tags, 'def:highway=residential;maxspeed'), 1) LIKE '%0') OR (list_extract(map_extract(tags, 'highspeed'), 1) LIKE '%0') OR (list_contains(map_keys(tags), 'maxspeed')) OR (list_extract(map_extract(tags, 'def:highway=living_street;maxspeed'), 1) LIKE '%0') OR (list_extract(map_extract(tags, 'source:maxspeed'), 1) LIKE '%0') OR (list_extract(map_extract(tags, 'def:highway=trunk;maxspeed'), 1) LIKE '%0')\n",
    "\n",
    "    \"\"\"\n",
    ")"
   ]
  },
  {
   "cell_type": "code",
   "execution_count": null,
   "metadata": {},
   "outputs": [],
   "source": [
    "duckdb.sql(\n",
    "    f\"\"\"\n",
    "    SELECT\n",
    "        kind, id, tags\n",
    "    FROM\n",
    "        ST_ReadOSM('tests/test_files/monaco.osm.pbf')\n",
    "    WHERE\n",
    "        tags IS NOT NULL\n",
    "        AND (list_extract(map_extract(tags, 'def:highway=motorway;maxspeed'), 1) LIKE '%0') OR (list_extract(map_extract(tags, 'def:highway=primary|highway=secondary|highway=tertiary;maxspeed'), 1) LIKE '%0') OR (list_extract(map_extract(tags, 'def:highway=residential;maxspeed'), 1) LIKE '%0') OR (list_extract(map_extract(tags, 'highspeed'), 1) LIKE '%0') OR (list_contains(map_keys(tags), 'maxspeed')) OR (list_extract(map_extract(tags, 'def:highway=living_street;maxspeed'), 1) LIKE '%0') OR (list_extract(map_extract(tags, 'source:maxspeed'), 1) LIKE '%0') OR (list_extract(map_extract(tags, 'def:highway=trunk;maxspeed'), 1) LIKE '%0')\n",
    "\n",
    "    \"\"\"\n",
    ")"
   ]
  },
  {
   "cell_type": "code",
   "execution_count": null,
   "metadata": {},
   "outputs": [],
   "source": [
    "GROUPED_TAGS_FILTERS_EXAMPLES = [\n",
    "    {\"buildings\": {\"building\": True}},\n",
    "    {\"buildings_all\": {\"building\": True}, \"buildings_star_all\": {\"building\": \"*\"}},\n",
    "    {\"buildings_all\": {\"building\": True}, \"buildings_office\": {\"building\": \"office\"}},\n",
    "    {\"english_name\": {\"name:en\": True}, \"all_names\": {\"name:*\": True}},\n",
    "    {\"buildings_and_features_with_addr\": {\"building\": True, \"addr:*\": True}, \"buildings_and_features_with_names\": {\"building\": True, \"name:*\": True}},\n",
    "    {\"buildings_without_addr\": {\"building\": True, \"addr:*\": False}, \"buildings_without_names\": {\"building\": True, \"name:*\": False}}, # will result in both without names and addresses\n",
    "    {\"highways_and_ways_with_decimal_speeds\": {\"highway\": True, \"*speed\": \"*0\"}, \"railways\": {\"railway\": True}},\n",
    "]"
   ]
  },
  {
   "cell_type": "code",
   "execution_count": null,
   "metadata": {},
   "outputs": [],
   "source": [
    "grouped_results = []\n",
    "for tags_filter_example in GROUPED_TAGS_FILTERS_EXAMPLES:\n",
    "    print(tags_filter_example)\n",
    "    reader = PbfFileReader(tags_filter=tags_filter_example, silent_mode=True)\n",
    "    grouped_results.append(\n",
    "        reader.get_features_gdf(file_paths=\"tests/test_files/monaco.osm.pbf\", ignore_cache=True)\n",
    "    )\n",
    "    print()"
   ]
  },
  {
   "cell_type": "code",
   "execution_count": null,
   "metadata": {},
   "outputs": [],
   "source": [
    "SQL_EXAMPLES_NO_STAR = [\n",
    "    \"(list_contains(map_keys(tags), 'building'))\",\n",
    "    \"((list_contains(map_keys(tags), 'amenity')) OR (list_contains(map_keys(tags), 'leisure')))\",\n",
    "    # \"((tag_key = 'amenity' and tag_value = 'parking') OR (tag_key = 'leisure' and tag_value in ('park', 'garden')) OR (tag_key = 'office'))\",\n",
    "    # \"(tag_key != 'office')\",\n",
    "    # \"((tag_key = 'building')) AND ((tag_key != 'office'))\",\n",
    "    # \"(tag_key = 'name:en')\"\n",
    "]"
   ]
  },
  {
   "cell_type": "code",
   "execution_count": null,
   "metadata": {},
   "outputs": [],
   "source": [
    "from collections import namedtuple\n",
    "\n",
    "OSMTagFilterExample = namedtuple(\"OSMTagFilterExample\", \"find_tags positive negative\")"
   ]
  },
  {
   "cell_type": "code",
   "execution_count": null,
   "metadata": {},
   "outputs": [],
   "source": [
    "SQL_EXAMPLES = [\n",
    "    \n",
    "]"
   ]
  },
  {
   "cell_type": "code",
   "execution_count": null,
   "metadata": {},
   "outputs": [],
   "source": [
    "for where_filter in SQL_EXAMPLES_NO_STAR:\n",
    "    print(\n",
    "        duckdb.sql(\n",
    "            f\"\"\"\n",
    "            SELECT\n",
    "                kind, id, tags\n",
    "            FROM\n",
    "                ST_ReadOSM('tests/test_files/monaco.osm.pbf')\n",
    "            WHERE\n",
    "                tags IS NOT NULL\n",
    "                AND {where_filter}\n",
    "            \"\"\"\n",
    "        ).sql_query()\n",
    "    )\n",
    "    print(\n",
    "        duckdb.sql(\n",
    "            f\"\"\"\n",
    "            SELECT\n",
    "                kind, id, tags\n",
    "            FROM\n",
    "                ST_ReadOSM('tests/test_files/monaco.osm.pbf')\n",
    "            WHERE\n",
    "                tags IS NOT NULL\n",
    "                AND {where_filter}\n",
    "            \"\"\"\n",
    "        )\n",
    "    )"
   ]
  }
 ],
 "metadata": {
  "kernelspec": {
   "display_name": ".venv",
   "language": "python",
   "name": "python3"
  },
  "language_info": {
   "codemirror_mode": {
    "name": "ipython",
    "version": 3
   },
   "file_extension": ".py",
   "mimetype": "text/x-python",
   "name": "python",
   "nbconvert_exporter": "python",
   "pygments_lexer": "ipython3",
   "version": "3.10.12"
  }
 },
 "nbformat": 4,
 "nbformat_minor": 2
}
