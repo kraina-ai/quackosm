{
 "cells": [
  {
   "cell_type": "code",
   "execution_count": null,
   "metadata": {},
   "outputs": [],
   "source": [
    "from typing import cast\n",
    "\n",
    "import typer\n",
    "import typer.core\n",
    "from click import Command, Group\n",
    "from rich.console import Console\n",
    "\n",
    "def get_docs_for_click(\n",
    "    *,\n",
    "    obj: Command,\n",
    "    ctx: typer.Context,\n",
    "    indent: int = 0,\n",
    "    name: str = \"\",\n",
    "    call_prefix: str = \"\",\n",
    ") -> str:\n",
    "    docs = \"#\" * (1 + indent)\n",
    "    command_name = name or obj.name\n",
    "    if call_prefix:\n",
    "        command_name = f\"{call_prefix} {command_name}\"\n",
    "    title = f\"`{command_name}`\" if command_name else \"CLI\"\n",
    "    docs += f\" {title}\\n\\n\"\n",
    "    if obj.help:\n",
    "        docs += f\"{obj.help}\\n\\n\"\n",
    "    usage_pieces = obj.collect_usage_pieces(ctx)\n",
    "    if usage_pieces:\n",
    "        docs += \"**Usage**:\\n\\n\"\n",
    "        docs += \"```console\\n\"\n",
    "        docs += \"$ \"\n",
    "        if command_name:\n",
    "            docs += f\"{command_name} \"\n",
    "        docs += f\"{' '.join(usage_pieces)}\\n\"\n",
    "        docs += \"```\\n\\n\"\n",
    "    args = []\n",
    "    opts = []\n",
    "    for param in obj.get_params(ctx):\n",
    "        rv = param.get_help_record(ctx)\n",
    "        if rv is not None:\n",
    "            if param.param_type_name == \"argument\":\n",
    "                args.append(rv)\n",
    "            elif param.param_type_name == \"option\":\n",
    "                opts.append(rv)\n",
    "    if args:\n",
    "        docs += f\"**Arguments**:\\n\\n\"\n",
    "        for arg_name, arg_help in args:\n",
    "            docs += f\"* `{arg_name}`\"\n",
    "            if arg_help:\n",
    "                docs += f\": {arg_help}\"\n",
    "            docs += \"\\n\"\n",
    "        docs += \"\\n\"\n",
    "    if opts:\n",
    "        docs += f\"**Options**:\\n\\n\"\n",
    "        for opt_name, opt_help in opts:\n",
    "            docs += f\"* `{opt_name}`\"\n",
    "            if opt_help:\n",
    "                # docs += f\": {opt_help}\"\n",
    "                console = Console(record=True)\n",
    "                with console.capture() as capture:\n",
    "                    console.print(opt_help)\n",
    "                docs += f\": {console.export_text()}\"\n",
    "                # docs += f\": {capture.get()}\"\n",
    "            docs += \"\\n\"\n",
    "        docs += \"\\n\"\n",
    "    if obj.epilog:\n",
    "        docs += f\"{obj.epilog}\\n\\n\"\n",
    "    if isinstance(obj, Group):\n",
    "        group: Group = cast(Group, obj)\n",
    "        commands = group.list_commands(ctx)\n",
    "        if commands:\n",
    "            docs += f\"**Commands**:\\n\\n\"\n",
    "            for command in commands:\n",
    "                command_obj = group.get_command(ctx, command)\n",
    "                assert command_obj\n",
    "                docs += f\"* `{command_obj.name}`\"\n",
    "                command_help = command_obj.get_short_help_str()\n",
    "                if command_help:\n",
    "                    docs += f\": {command_help}\"\n",
    "                docs += \"\\n\"\n",
    "            docs += \"\\n\"\n",
    "        for command in commands:\n",
    "            command_obj = group.get_command(ctx, command)\n",
    "            assert command_obj\n",
    "            use_prefix = \"\"\n",
    "            if command_name:\n",
    "                use_prefix += f\"{command_name}\"\n",
    "            docs += get_docs_for_click(\n",
    "                obj=command_obj, ctx=ctx, indent=indent + 1, call_prefix=use_prefix\n",
    "            )\n",
    "    return docs"
   ]
  },
  {
   "cell_type": "code",
   "execution_count": null,
   "metadata": {},
   "outputs": [],
   "source": [
    "from quackosm.cli import app, __app_name__\n",
    "\n",
    "typer_obj = app\n",
    "\n",
    "click_obj = typer.main.get_command(typer_obj)"
   ]
  },
  {
   "cell_type": "code",
   "execution_count": null,
   "metadata": {},
   "outputs": [],
   "source": [
    "ctx = typer.Context(command=click_obj)"
   ]
  },
  {
   "cell_type": "code",
   "execution_count": null,
   "metadata": {},
   "outputs": [],
   "source": [
    "docs = get_docs_for_click(obj=click_obj, ctx=ctx, name=__app_name__)"
   ]
  },
  {
   "cell_type": "code",
   "execution_count": null,
   "metadata": {},
   "outputs": [],
   "source": [
    "from pathlib import Path\n",
    "\n",
    "\n",
    "Path('test_cli.md').write_text(docs)"
   ]
  }
 ],
 "metadata": {
  "kernelspec": {
   "display_name": ".venv",
   "language": "python",
   "name": "python3"
  },
  "language_info": {
   "codemirror_mode": {
    "name": "ipython",
    "version": 3
   },
   "file_extension": ".py",
   "mimetype": "text/x-python",
   "name": "python",
   "nbconvert_exporter": "python",
   "pygments_lexer": "ipython3",
   "version": "3.10.12"
  }
 },
 "nbformat": 4,
 "nbformat_minor": 2
}
