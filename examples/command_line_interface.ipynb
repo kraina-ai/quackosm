{
 "cells": [
  {
   "cell_type": "markdown",
   "metadata": {},
   "source": [
    "# QuackOSM Command Line Interface\n",
    "\n",
    "**QuackOSM** contains a CLI for users convenience. It is **not** installed by default when installed using `pip install quackosm`.\n",
    "\n",
    "To include the CLI, **QuackOSM** has to be installed with additional group called `cli`: `pip install quackosm[cli]`.\n",
    "\n",
    "CLI is based on the `typer` library and exposes almost all of the features implemented in the Python API.\n",
    "\n",
    "After installation, the `QuackOSM` (or `quackosm`) command will be available in the shell.\n",
    "\n",
    "Each command error returns a verbose description what went wrong."
   ]
  },
  {
   "cell_type": "code",
   "execution_count": null,
   "metadata": {},
   "outputs": [],
   "source": [
    "# Extend the default console width from 80 characters\n",
    "import os\n",
    "\n",
    "os.environ[\"COLUMNS\"] = \"160\""
   ]
  },
  {
   "cell_type": "markdown",
   "metadata": {},
   "source": [
    "## Basic usage\n",
    "\n",
    "By default, the quackosm requires just the path to the `PBF` file. Without it, there will be an error."
   ]
  },
  {
   "cell_type": "code",
   "execution_count": null,
   "metadata": {},
   "outputs": [],
   "source": [
    "! QuackOSM"
   ]
  },
  {
   "cell_type": "markdown",
   "metadata": {},
   "source": [
    "Let's download a small extract and test the basic usage."
   ]
  },
  {
   "cell_type": "code",
   "execution_count": null,
   "metadata": {},
   "outputs": [],
   "source": [
    "import urllib.request\n",
    "\n",
    "andorra_pbf_url = \"https://download.geofabrik.de/europe/andorra-latest.osm.pbf\"\n",
    "andorra_pbf_file = \"andorra.osm.pbf\"\n",
    "urllib.request.urlretrieve(andorra_pbf_url, andorra_pbf_file)"
   ]
  },
  {
   "cell_type": "code",
   "execution_count": null,
   "metadata": {
    "vscode": {
     "languageId": "shellscript"
    }
   },
   "outputs": [],
   "source": [
    "! QuackOSM andorra.osm.pbf"
   ]
  },
  {
   "cell_type": "markdown",
   "metadata": {},
   "source": [
    "Second execution of this command will immediately return a path to the previously generated file."
   ]
  },
  {
   "cell_type": "code",
   "execution_count": null,
   "metadata": {
    "vscode": {
     "languageId": "shellscript"
    }
   },
   "outputs": [],
   "source": [
    "! QuackOSM andorra.osm.pbf"
   ]
  },
  {
   "cell_type": "markdown",
   "metadata": {},
   "source": [
    "To force the regeneration of the GeoParquet file, add the `--ignore-cache` flag (or `--no-cache`) to the command."
   ]
  },
  {
   "cell_type": "code",
   "execution_count": null,
   "metadata": {
    "vscode": {
     "languageId": "shellscript"
    }
   },
   "outputs": [],
   "source": [
    "! QuackOSM andorra.osm.pbf --ignore-cache"
   ]
  },
  {
   "cell_type": "markdown",
   "metadata": {},
   "source": [
    "## Help command\n",
    "\n",
    "To get the full description of all arguments of the QuackOSM command, you can use the `--help` (or `-h`) parameter."
   ]
  },
  {
   "cell_type": "code",
   "execution_count": null,
   "metadata": {
    "vscode": {
     "languageId": "shellscript"
    }
   },
   "outputs": [],
   "source": [
    "! QuackOSM --help"
   ]
  },
  {
   "cell_type": "markdown",
   "metadata": {},
   "source": [
    "## Geometry filters\n",
    "\n",
    "QuackOSM can automatically download required PBF files based on multiple geometry filters:\n",
    "- Text to geocode using Nominatim\n",
    "- WKT geometry\n",
    "- GeoJSON geometry\n",
    "- Geometry file path\n",
    "- H3 spatial index\n",
    "- Geohash spatial index\n",
    "- S2 spatial index\n",
    "\n",
    "These filters can also be used to filter out geometries from provided pbf file."
   ]
  },
  {
   "cell_type": "markdown",
   "metadata": {},
   "source": [
    "Let's see the example based on Monaco region.\n",
    "\n",
    "First, we will visualise multiple filters on the map."
   ]
  },
  {
   "cell_type": "code",
   "execution_count": null,
   "metadata": {},
   "outputs": [],
   "source": [
    "import geopandas as gpd\n",
    "\n",
    "from quackosm.cli import (\n",
    "    GeocodeGeometryParser,\n",
    "    GeohashGeometryParser,\n",
    "    GeoJsonGeometryParser,\n",
    "    H3GeometryParser,\n",
    "    S2GeometryParser,\n",
    "    WktGeometryParser,\n",
    ")"
   ]
  },
  {
   "cell_type": "code",
   "execution_count": null,
   "metadata": {},
   "outputs": [],
   "source": [
    "geocode_string = \"Monaco-Ville, Monaco\"\n",
    "geojson_string = \"\"\"{\"type\":\"Feature\",\"geometry\":{\"coordinates\":[[[7.416,43.734],[7.416,43.731],[7.421,43.731],[7.421,43.734],[7.416,43.734]]],\"type\":\"Polygon\"}}\"\"\"\n",
    "wkt_string = \"POLYGON ((7.414 43.735, 7.414 43.732, 7.419 43.732, 7.419 43.735, 7.414 43.735))\"\n",
    "h3_string = \"893969a4037ffff\"\n",
    "geohash_string = \"spv2bcs\"\n",
    "s2_string = \"12cdc28d\""
   ]
  },
  {
   "cell_type": "code",
   "execution_count": null,
   "metadata": {},
   "outputs": [],
   "source": [
    "gpd.GeoDataFrame(\n",
    "    data=dict(type=[\"Geocode\", \"GeoJSON\", \"WKT\", \"H3\", \"GeoHash\", \"S2\"]),\n",
    "    geometry=[\n",
    "        GeocodeGeometryParser().convert(geocode_string),\n",
    "        GeoJsonGeometryParser().convert(geojson_string),\n",
    "        WktGeometryParser().convert(wkt_string),\n",
    "        H3GeometryParser().convert(h3_string),\n",
    "        GeohashGeometryParser().convert(geohash_string),\n",
    "        S2GeometryParser().convert(s2_string),\n",
    "    ],\n",
    "    crs=4326,\n",
    ").explore(column=\"type\", tiles=\"CartoDB positron\")"
   ]
  },
  {
   "cell_type": "markdown",
   "metadata": {},
   "source": [
    "Now we will execute each filter and let QuackOSM find required region on its own.\n",
    "\n",
    "During first execution, QuackOSM will cache three PBF files sources locally. This operation takes some time."
   ]
  },
  {
   "cell_type": "code",
   "execution_count": null,
   "metadata": {
    "vscode": {
     "languageId": "shellscript"
    }
   },
   "outputs": [],
   "source": [
    "! QuackOSM --geom-filter-geocode 'Monaco-Ville, Monaco'"
   ]
  },
  {
   "cell_type": "code",
   "execution_count": null,
   "metadata": {
    "vscode": {
     "languageId": "shellscript"
    }
   },
   "outputs": [],
   "source": [
    "! QuackOSM --geom-filter-geojson '{\"type\":\"Feature\",\"geometry\":{\"coordinates\":[[[7.416,43.734],[7.416,43.731],[7.421,43.731],[7.421,43.734],[7.416,43.734]]],\"type\":\"Polygon\"}}'"
   ]
  },
  {
   "cell_type": "code",
   "execution_count": null,
   "metadata": {
    "vscode": {
     "languageId": "shellscript"
    }
   },
   "outputs": [],
   "source": [
    "! QuackOSM --geom-filter-index-geohash spv2bcs"
   ]
  },
  {
   "cell_type": "code",
   "execution_count": null,
   "metadata": {
    "vscode": {
     "languageId": "shellscript"
    }
   },
   "outputs": [],
   "source": [
    "! QuackOSM --geom-filter-index-h3 893969a4037ffff"
   ]
  },
  {
   "cell_type": "code",
   "execution_count": null,
   "metadata": {
    "vscode": {
     "languageId": "shellscript"
    }
   },
   "outputs": [],
   "source": [
    "! QuackOSM --geom-filter-index-s2 12cdc28d"
   ]
  },
  {
   "cell_type": "code",
   "execution_count": null,
   "metadata": {
    "vscode": {
     "languageId": "shellscript"
    }
   },
   "outputs": [],
   "source": [
    "! QuackOSM --geom-filter-wkt 'POLYGON ((7.414 43.735, 7.414 43.732, 7.419 43.732, 7.419 43.735, 7.414 43.735))'"
   ]
  },
  {
   "cell_type": "markdown",
   "metadata": {},
   "source": [
    "## OSM tags filters\n",
    "\n",
    "By default, QuackOSM parses all of the features (nodes, ways, relations) from the `*.osm.pbf` file with tags attached.\n",
    "\n",
    "Hovewer, there is also an option to pass an OSM tags filter in the form of JSON string or path to the JSON file.\n",
    "\n",
    "OSM tags filter logic is based on the filter from the [`OSMnx`](https://github.com/gboeing/osmnx) library.\n",
    "\n",
    "Filter is expected to be in the form of dictionary with `keys` as string and `values` as one of the types: string, list of strings, bool `True` value.\n",
    "\n",
    "Example filters:\n",
    "\n",
    "- All of the buildings\n",
    "  ```json\n",
    "  { \"building\": true }\n",
    "  ```\n",
    "- Parkings and offices\n",
    "  ```json\n",
    "  {\n",
    "    \"amenity\": \"parking\",\n",
    "    \"building\": \"office\"\n",
    "  }\n",
    "  ```\n",
    "- General shops\n",
    "  ```json\n",
    "  {\n",
    "    \"shop\": [\n",
    "      \"convenience\",\n",
    "      \"department_store\",\n",
    "      \"general\",\n",
    "      \"kiosk\",\n",
    "      \"mall\",\n",
    "      \"supermarket\",\n",
    "      \"wholesale\"\n",
    "    ]\n",
    "  }\n",
    "  ```\n",
    "\n",
    "Tags filters can be used together with geometry filters to get specific features from the area of interest."
   ]
  },
  {
   "cell_type": "markdown",
   "metadata": {},
   "source": [
    "<div class=\"admonition info\">\n",
    "    <p class=\"admonition-title\">Info</p>\n",
    "    <p>\n",
    "    By default, without any tags filters, QuackOSM returns all of the tags of the feature grouped as a single column: <strong>tags</strong>.<br />\n",
    "    With tags filter, result file will keep the used in the filter and keep each tag key as a separate column.<br />\n",
    "    To keep all tags while filtering the file, use <strong>--keep-all-tags</strong> flag.\n",
    "    </p>\n",
    "</div>"
   ]
  },
  {
   "cell_type": "code",
   "execution_count": null,
   "metadata": {
    "vscode": {
     "languageId": "shellscript"
    }
   },
   "outputs": [],
   "source": [
    "! QuackOSM andorra.osm.pbf --osm-tags-filter '{ \"building\": true }'"
   ]
  },
  {
   "cell_type": "markdown",
   "metadata": {},
   "source": [
    "## Keeping tags compact or separate\n",
    "\n",
    "QuackOSM can keep tags in the compact form (as a single column named `tags`) or wide form (each tag key as separate column).\n",
    "If not set by the user, it will change depending on the presence of tags filter:\n",
    "- without tags filter: tags kept together as a sinlge column\n",
    "- with tags filter: tags split into separate columns\n",
    "\n",
    "User can force one of those two behaviours regardless of osm tags filter being present or not:\n",
    "- `--explode-tags` (or `--explode`): will always split tags into separate columns, sometimes resulting in hundreds or event thousands of columns in the result file.\n",
    "- `--compact-tags` (or `--compact`): will always keep tags together as a single column."
   ]
  },
  {
   "cell_type": "code",
   "execution_count": null,
   "metadata": {
    "vscode": {
     "languageId": "shellscript"
    }
   },
   "outputs": [],
   "source": [
    "! QuackOSM andorra.osm.pbf --osm-tags-filter '{ \"amenity\": \"parking\", \"building\": \"office\" }' --explode"
   ]
  },
  {
   "cell_type": "code",
   "execution_count": null,
   "metadata": {
    "vscode": {
     "languageId": "shellscript"
    }
   },
   "outputs": [],
   "source": [
    "! QuackOSM andorra.osm.pbf --osm-tags-filter '{ \"amenity\": \"parking\", \"building\": \"office\" }' --compact"
   ]
  },
  {
   "cell_type": "markdown",
   "metadata": {},
   "source": [
    "Let's see the difference in the files structure."
   ]
  },
  {
   "cell_type": "code",
   "execution_count": null,
   "metadata": {},
   "outputs": [],
   "source": [
    "import duckdb\n",
    "\n",
    "duckdb.read_parquet(\n",
    "    \"files/andorra_8a275d4edddd035eb6a5d8120a8b42a320b25cf93577335600faba8c2d69d85a_noclip_exploded.geoparquet\"\n",
    ")"
   ]
  },
  {
   "cell_type": "code",
   "execution_count": null,
   "metadata": {},
   "outputs": [],
   "source": [
    "duckdb.read_parquet(\n",
    "    \"files/andorra_8a275d4edddd035eb6a5d8120a8b42a320b25cf93577335600faba8c2d69d85a_noclip_compact.geoparquet\"\n",
    ")"
   ]
  },
  {
   "cell_type": "markdown",
   "metadata": {},
   "source": [
    "## WKT mode\n",
    "\n",
    "By default, QuackOSM saves parsed files in the `GeoParquet` format with the geometry in the `WKB` format.\n",
    "\n",
    "There is also an option to save the file as a `Parquet` file with the geometry in the `WKT` format using `--wkt-result` (or `--wkt`) parameter."
   ]
  },
  {
   "cell_type": "code",
   "execution_count": null,
   "metadata": {
    "vscode": {
     "languageId": "shellscript"
    }
   },
   "outputs": [],
   "source": [
    "! QuackOSM andorra.osm.pbf --wkt-result"
   ]
  },
  {
   "cell_type": "code",
   "execution_count": null,
   "metadata": {},
   "outputs": [],
   "source": [
    "duckdb.read_parquet(\n",
    "    \"files/andorra_nofilter_noclip_compact_wkt.parquet\"\n",
    ")"
   ]
  }
 ],
 "metadata": {
  "kernelspec": {
   "display_name": ".venv",
   "language": "python",
   "name": "python3"
  },
  "language_info": {
   "codemirror_mode": {
    "name": "ipython",
    "version": 3
   },
   "file_extension": ".py",
   "mimetype": "text/x-python",
   "name": "python",
   "nbconvert_exporter": "python",
   "pygments_lexer": "ipython3",
   "version": "3.11.7"
  }
 },
 "nbformat": 4,
 "nbformat_minor": 2
}
