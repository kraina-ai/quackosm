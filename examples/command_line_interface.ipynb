{
 "cells": [
  {
   "cell_type": "markdown",
   "metadata": {},
   "source": [
    "# QuackOSM Command Line Interface\n",
    "\n",
    "**QuackOSM** contains a CLI for users convenience. It is **not** installed by default when installed using `pip install quackosm`.\n",
    "\n",
    "To include the CLI, **QuackOSM** has to be installed with additional group called `cli`: `pip install quackosm[cli]`.\n",
    "\n",
    "CLI is based on the `typer` library and exposes almost all of the features implemented in the Python API.\n",
    "\n",
    "After installation, the `QuackOSM` (or `quackosm`) command will be available in the shell.\n",
    "\n",
    "Each command error returns a verbose description what went wrong."
   ]
  },
  {
   "cell_type": "markdown",
   "metadata": {},
   "source": [
    "## Basic usage\n",
    "\n",
    "By default, the quackosm requires just the path to the `PBF` file. Without it, there will be an error."
   ]
  },
  {
   "cell_type": "code",
   "execution_count": null,
   "metadata": {},
   "outputs": [],
   "source": [
    "%config PlainTextFormatter.max_width = 120"
   ]
  },
  {
   "cell_type": "code",
   "execution_count": null,
   "metadata": {},
   "outputs": [],
   "source": [
    "!stty size"
   ]
  },
  {
   "cell_type": "code",
   "execution_count": null,
   "metadata": {},
   "outputs": [],
   "source": [
    "from shutil import get_terminal_size\n",
    "\n",
    "get_terminal_size()"
   ]
  },
  {
   "cell_type": "code",
   "execution_count": null,
   "metadata": {},
   "outputs": [],
   "source": [
    "import numpy as np\n",
    "np.set_printoptions(linewidth=160)"
   ]
  },
  {
   "cell_type": "code",
   "execution_count": null,
   "metadata": {
    "vscode": {
     "languageId": "shellscript"
    }
   },
   "outputs": [],
   "source": [
    "! QuackOSM"
   ]
  },
  {
   "cell_type": "code",
   "execution_count": null,
   "metadata": {
    "vscode": {
     "languageId": "shellscript"
    }
   },
   "outputs": [],
   "source": [
    "! QuackOSM"
   ]
  },
  {
   "cell_type": "markdown",
   "metadata": {},
   "source": [
    "Let's download a small extract and test basic usage."
   ]
  },
  {
   "cell_type": "code",
   "execution_count": null,
   "metadata": {},
   "outputs": [],
   "source": [
    "import urllib.request\n",
    "\n",
    "monaco_pbf_url = \"https://download.geofabrik.de/europe/monaco-latest.osm.pbf\"\n",
    "monaco_pbf_file = \"monaco.osm.pbf\"\n",
    "urllib.request.urlretrieve(monaco_pbf_url, monaco_pbf_file)"
   ]
  },
  {
   "cell_type": "code",
   "execution_count": null,
   "metadata": {
    "vscode": {
     "languageId": "shellscript"
    }
   },
   "outputs": [],
   "source": [
    "! QuackOSM monaco.osm.pbf"
   ]
  },
  {
   "cell_type": "markdown",
   "metadata": {},
   "source": [
    "## Help command\n",
    "\n",
    "If you want to learn more about available parameters to the QuackOSM, you can use the `--help` (or `-h`) parameter."
   ]
  },
  {
   "cell_type": "code",
   "execution_count": null,
   "metadata": {
    "vscode": {
     "languageId": "shellscript"
    }
   },
   "outputs": [],
   "source": [
    "! QuackOSM --help"
   ]
  }
 ],
 "metadata": {
  "kernelspec": {
   "display_name": ".venv",
   "language": "python",
   "name": "python3"
  },
  "language_info": {
   "codemirror_mode": {
    "name": "ipython",
    "version": 3
   },
   "file_extension": ".py",
   "mimetype": "text/x-python",
   "name": "python",
   "nbconvert_exporter": "python",
   "pygments_lexer": "ipython3",
   "version": "3.11.7"
  }
 },
 "nbformat": 4,
 "nbformat_minor": 2
}
