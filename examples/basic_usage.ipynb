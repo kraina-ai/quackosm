{
 "cells": [
  {
   "cell_type": "markdown",
   "metadata": {},
   "source": [
    "# QuackOSM Basic Usage\n",
    "\n",
    "**QuackOSM** exposes some basic functions in the main Python module. Full documentation for them is available [here](../../api/QuackOSM/).\n",
    "\n",
    "This notebook will show how to use the library in a few simple scenarios.\n",
    "\n",
    "To learn more about `CLI` usage, see [this page](../command_line_interface/). The `help` page for the CLI is available [here](../../api/CLI/).\n",
    "\n",
    "To learn more details about `PbfFileReader` class, see [this page](../pbf_file_reader/), or [documentation page](../../api/PbfFileReader/)."
   ]
  },
  {
   "cell_type": "code",
   "execution_count": null,
   "metadata": {},
   "outputs": [],
   "source": [
    "import quackosm as qosm"
   ]
  },
  {
   "cell_type": "markdown",
   "metadata": {},
   "source": [
    "## Reading existing PBF file to GeoDataFrame"
   ]
  },
  {
   "cell_type": "code",
   "execution_count": null,
   "metadata": {},
   "outputs": [],
   "source": [
    "qosm.convert_pbf_to_geodataframe(\"https://download.geofabrik.de/europe/monaco-latest.osm.pbf\")"
   ]
  },
  {
   "cell_type": "markdown",
   "metadata": {},
   "source": [
    "## Transforming existing PBF file to GeoParquet"
   ]
  },
  {
   "cell_type": "code",
   "execution_count": null,
   "metadata": {},
   "outputs": [],
   "source": [
    "qosm.convert_pbf_to_parquet(\"https://download.geofabrik.de/europe/monaco-latest.osm.pbf\")"
   ]
  },
  {
   "cell_type": "markdown",
   "metadata": {},
   "source": [
    "## Find an OSM PBF extract file using text and read it as GeoDataFrame\n",
    "\n",
    "Read more about OSM extracts [here](../advanced_examples/osm_extracts/)."
   ]
  },
  {
   "cell_type": "code",
   "execution_count": null,
   "metadata": {},
   "outputs": [],
   "source": [
    "qosm.convert_osm_extract_to_geodataframe(\"Vatican City\")"
   ]
  },
  {
   "cell_type": "markdown",
   "metadata": {},
   "source": [
    "## Find an OSM PBF extract file using text and transform it to a GeoParquet"
   ]
  },
  {
   "cell_type": "code",
   "execution_count": null,
   "metadata": {},
   "outputs": [],
   "source": [
    "qosm.convert_osm_extract_to_parquet(\"Vatican City\")"
   ]
  },
  {
   "cell_type": "markdown",
   "metadata": {},
   "source": [
    "## Get OSM data for a given geometry as a GeoDataFrame"
   ]
  },
  {
   "cell_type": "code",
   "execution_count": null,
   "metadata": {},
   "outputs": [],
   "source": [
    "area = qosm.geocode_to_geometry('Shibuya, Tokyo')\n",
    "qosm.convert_geometry_to_geodataframe(area)"
   ]
  },
  {
   "cell_type": "markdown",
   "metadata": {},
   "source": [
    "## Save OSM data for a given geometry as a GeoParquet"
   ]
  },
  {
   "cell_type": "code",
   "execution_count": null,
   "metadata": {},
   "outputs": [],
   "source": [
    "qosm.convert_geometry_to_parquet(area)"
   ]
  },
  {
   "cell_type": "markdown",
   "metadata": {},
   "source": [
    "## More advanced examples"
   ]
  },
  {
   "cell_type": "markdown",
   "metadata": {},
   "source": [
    "### Filter out data based on geometry from existing PBF file"
   ]
  },
  {
   "cell_type": "code",
   "execution_count": null,
   "metadata": {},
   "outputs": [],
   "source": [
    "area = qosm.geocode_to_geometry(\"Monaco-Ville, Monaco\")\n",
    "gdf = qosm.convert_pbf_to_geodataframe(\n",
    "    \"https://download.geofabrik.de/europe/monaco-latest.osm.pbf\", geometry_filter=area\n",
    ")\n",
    "gdf"
   ]
  },
  {
   "cell_type": "markdown",
   "metadata": {},
   "source": [
    "Plot downloaded data"
   ]
  },
  {
   "cell_type": "code",
   "execution_count": null,
   "metadata": {},
   "outputs": [],
   "source": [
    "import matplotlib.pyplot as plt\n",
    "import matplotlib.patches as mpatches\n",
    "import geopandas as gpd\n",
    "\n",
    "fig = plt.figure(figsize=(10, 10))\n",
    "ax = fig.subplots()\n",
    "\n",
    "gdf.plot(ax=ax, markersize=1, zorder=1, alpha=0.4)\n",
    "gdf.boundary.plot(ax=ax, markersize=0, zorder=1, alpha=0.8)\n",
    "gpd.GeoSeries([area], crs=4326).plot(\n",
    "    ax=ax,\n",
    "    color=(0, 0, 0, 0),\n",
    "    zorder=2,\n",
    "    hatch=\"///\",\n",
    "    edgecolor=\"orange\",\n",
    "    linewidth=1.5,\n",
    ")\n",
    "\n",
    "blue_patch = mpatches.Patch(color=\"C0\", alpha=0.8, label=\"OSM features\")\n",
    "orange_patch = mpatches.Patch(\n",
    "    facecolor=(0, 0, 0, 0), edgecolor=\"orange\", hatch=\"///\", linewidth=1.5, label=\"Geometry filter\"\n",
    ")\n",
    "ax.legend(handles=[blue_patch, orange_patch], loc=\"lower right\")\n",
    "plt.show()"
   ]
  },
  {
   "cell_type": "markdown",
   "metadata": {},
   "source": [
    "### Get all bicycle sharing stations in Barcelona\n",
    "\n",
    "You can read more about OSM tags filtering [here](../advanced_examples/osm_tags_filter/)."
   ]
  },
  {
   "cell_type": "code",
   "execution_count": null,
   "metadata": {},
   "outputs": [],
   "source": [
    "area = qosm.geocode_to_geometry(\"Barcelona\")\n",
    "gdf = qosm.convert_geometry_to_geodataframe(\n",
    "    area, tags_filter={\"amenity\": \"bicycle_rental\"}\n",
    ")\n",
    "gdf"
   ]
  },
  {
   "cell_type": "markdown",
   "metadata": {},
   "source": [
    "Show downloaded data on a map"
   ]
  },
  {
   "cell_type": "code",
   "execution_count": null,
   "metadata": {},
   "outputs": [],
   "source": [
    "m = gdf.explore(color=\"orangered\", tiles=\"CartoDB positron\")\n",
    "gpd.GeoSeries([area], crs=4326).boundary.explore(m=m)"
   ]
  },
  {
   "cell_type": "markdown",
   "metadata": {},
   "source": [
    "### Save the result GeoParquet with WKT geometry"
   ]
  },
  {
   "cell_type": "code",
   "execution_count": null,
   "metadata": {},
   "outputs": [],
   "source": [
    "qosm.convert_pbf_to_parquet(\n",
    "    \"https://download.geofabrik.de/europe/monaco-latest.osm.pbf\", save_as_wkt=True\n",
    ")"
   ]
  },
  {
   "cell_type": "markdown",
   "metadata": {},
   "source": [
    "### Specify result file path"
   ]
  },
  {
   "cell_type": "code",
   "execution_count": null,
   "metadata": {},
   "outputs": [],
   "source": [
    "qosm.convert_geometry_to_parquet(\n",
    "    area, result_file_path='barcelona_osm_output.parquet'\n",
    ")"
   ]
  },
  {
   "cell_type": "markdown",
   "metadata": {},
   "source": [
    "### Force recalculation of the result\n",
    "\n",
    "By default, running the same command twice will result in reusing the saved GeoParquet file. You can force QuackOSM to recalculate the data."
   ]
  },
  {
   "cell_type": "code",
   "execution_count": null,
   "metadata": {},
   "outputs": [],
   "source": [
    "qosm.convert_pbf_to_parquet(\n",
    "    \"https://download.geofabrik.de/europe/monaco-latest.osm.pbf\", ignore_cache=True\n",
    ")"
   ]
  }
 ],
 "metadata": {
  "kernelspec": {
   "display_name": ".venv",
   "language": "python",
   "name": "python3"
  },
  "language_info": {
   "codemirror_mode": {
    "name": "ipython",
    "version": 3
   },
   "file_extension": ".py",
   "mimetype": "text/x-python",
   "name": "python",
   "nbconvert_exporter": "python",
   "pygments_lexer": "ipython3",
   "version": "3.11.7"
  }
 },
 "nbformat": 4,
 "nbformat_minor": 2
}
