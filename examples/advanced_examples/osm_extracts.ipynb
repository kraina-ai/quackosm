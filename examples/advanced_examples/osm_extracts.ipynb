{
 "cells": [
  {
   "cell_type": "markdown",
   "metadata": {},
   "source": [
    "# OpenStreetMap extracts\n",
    "\n",
    "**QuackOSM** exposes a simple API allowing user to download OSM extracts from multiple sources.\n",
    "\n",
    "This example notebook shows how to: \n",
    " - display available extracts,\n",
    " - query extracts by name,\n",
    " - find extracts covering a given geometry."
   ]
  },
  {
   "cell_type": "markdown",
   "metadata": {},
   "source": [
    "<style>\n",
    "div.jp-Cell-outputArea pre {\n",
    "  overflow-y: auto;\n",
    "  max-height: 50vh;\n",
    "}\n",
    "</style>"
   ]
  },
  {
   "cell_type": "markdown",
   "metadata": {},
   "source": [
    "## Display available OSM extracts\n",
    "\n",
    "Extracts have short name and a full name. Short name is just a current description of the region (eg. `Monaco`). Full name contains information about the extract source and all a whole nesting hierarchy (eg. `geofabrik_europe_monaco`).\n",
    "\n",
    "By default, function for displaying those extracts shows short name. In these examples below full names have been used."
   ]
  },
  {
   "cell_type": "code",
   "execution_count": null,
   "metadata": {},
   "outputs": [],
   "source": [
    "from quackosm.osm_extracts import display_available_extracts, OsmExtractSource"
   ]
  },
  {
   "cell_type": "markdown",
   "metadata": {},
   "source": [
    "### Geofabrik"
   ]
  },
  {
   "cell_type": "code",
   "execution_count": null,
   "metadata": {},
   "outputs": [],
   "source": [
    "display_available_extracts(OsmExtractSource.geofabrik)"
   ]
  },
  {
   "cell_type": "markdown",
   "metadata": {},
   "source": [
    "### OpenStreetMap FR"
   ]
  },
  {
   "cell_type": "code",
   "execution_count": null,
   "metadata": {},
   "outputs": [],
   "source": [
    "display_available_extracts(OsmExtractSource.osm_fr)"
   ]
  },
  {
   "cell_type": "markdown",
   "metadata": {},
   "source": [
    "### BBBike"
   ]
  },
  {
   "cell_type": "code",
   "execution_count": null,
   "metadata": {},
   "outputs": [],
   "source": [
    "display_available_extracts(OsmExtractSource.bbbike)"
   ]
  },
  {
   "cell_type": "markdown",
   "metadata": {},
   "source": [
    "## Query OSM extract by name"
   ]
  },
  {
   "cell_type": "code",
   "execution_count": null,
   "metadata": {},
   "outputs": [],
   "source": [
    "from quackosm import convert_osm_extract_to_geodataframe"
   ]
  },
  {
   "cell_type": "markdown",
   "metadata": {},
   "source": [
    "### Vatican city\n",
    "\n",
    "Download data for the Vatican city from any repository. Only `OpenStreetMap.fr` contains data for this query."
   ]
  },
  {
   "cell_type": "code",
   "execution_count": null,
   "metadata": {},
   "outputs": [],
   "source": [
    "convert_osm_extract_to_geodataframe(\"Vatican City\")"
   ]
  },
  {
   "cell_type": "markdown",
   "metadata": {},
   "source": [
    "### Monaco extract from Geofabrik\n",
    "\n",
    "Download data for the country of Monaco from the `Geofabrik` repository."
   ]
  },
  {
   "cell_type": "code",
   "execution_count": null,
   "metadata": {},
   "outputs": [],
   "source": [
    "convert_osm_extract_to_geodataframe(\"Monaco\", osm_extract_source=\"Geofabrik\")"
   ]
  },
  {
   "cell_type": "markdown",
   "metadata": {},
   "source": [
    "### Query with multiple matches\n",
    "\n",
    "Some extracts have the same name, or the same extract is available in multiple sources. Trying to get an extract by name with multiple matches will result in an error with list of extracts ids that can be used to get a specific one."
   ]
  },
  {
   "cell_type": "markdown",
   "metadata": {},
   "source": [
    "Getting a **Ceuta** region (autonomous city of Spain bordering with Marocco).\n",
    "\n",
    "Extract for this region is available both in Geofabrik and OSM fr sources."
   ]
  },
  {
   "cell_type": "code",
   "execution_count": null,
   "metadata": {},
   "outputs": [],
   "source": [
    "from rich import print as rprint\n",
    "from rich.traceback import Traceback\n",
    "\n",
    "from quackosm._exceptions import OsmExtractMultipleMatchesError\n",
    "\n",
    "try:\n",
    "    convert_osm_extract_to_geodataframe(\"Ceuta\")\n",
    "except OsmExtractMultipleMatchesError as ex:\n",
    "    rprint(Traceback.from_exception(type(ex), ex, None))"
   ]
  },
  {
   "cell_type": "markdown",
   "metadata": {},
   "source": [
    "`OsmExtractMultipleMatchesError` has a property `matching_full_names` with a list of found extracts full names. It can be used programatically to access those values."
   ]
  },
  {
   "cell_type": "code",
   "execution_count": null,
   "metadata": {},
   "outputs": [],
   "source": [
    "from quackosm.osm_extracts import get_extract_by_query\n",
    "\n",
    "matched_extracts = []\n",
    "\n",
    "try:\n",
    "    get_extract_by_query(\"Ceuta\")\n",
    "except OsmExtractMultipleMatchesError as ex:\n",
    "    for full_name in ex.matching_full_names:\n",
    "        matched_extracts.append(get_extract_by_query(full_name))\n",
    "\n",
    "matched_extracts"
   ]
  },
  {
   "cell_type": "markdown",
   "metadata": {},
   "source": [
    "We can display both extracts extents on the map."
   ]
  },
  {
   "cell_type": "code",
   "execution_count": null,
   "metadata": {},
   "outputs": [],
   "source": [
    "from quackosm.osm_extracts.extract import extracts_to_geodataframe\n",
    "\n",
    "extracts_to_geodataframe(matched_extracts).explore(column=\"id\", tiles=\"CartoDB positron\")"
   ]
  },
  {
   "cell_type": "markdown",
   "metadata": {},
   "source": [
    "Let's download data for the extract from the OpenStreetMap.fr."
   ]
  },
  {
   "cell_type": "code",
   "execution_count": null,
   "metadata": {},
   "outputs": [],
   "source": [
    "convert_osm_extract_to_geodataframe(\"osmfr_africa_spain_ceuta\")"
   ]
  },
  {
   "cell_type": "markdown",
   "metadata": {},
   "source": [
    "### Query with zero matches\n",
    "\n",
    "Sometimes query doesn't match any of the available extracts.\n",
    "Function for finding the extracts, automatically detects close names in case this was a typo and suggests them to the user. Suggestions are sorted based on the closeness to the query."
   ]
  },
  {
   "cell_type": "code",
   "execution_count": null,
   "metadata": {},
   "outputs": [],
   "source": [
    "from quackosm._exceptions import OsmExtractZeroMatchesError\n",
    "\n",
    "try:\n",
    "    convert_osm_extract_to_geodataframe(\"Gremany\")\n",
    "except OsmExtractZeroMatchesError as ex:\n",
    "    rprint(Traceback.from_exception(type(ex), ex, None))"
   ]
  },
  {
   "cell_type": "markdown",
   "metadata": {},
   "source": [
    "`OsmExtractZeroMatchesError` has a property `matching_full_names` with a list of suggested matching names. It can be used programatically to access those values."
   ]
  },
  {
   "cell_type": "code",
   "execution_count": null,
   "metadata": {},
   "outputs": [],
   "source": [
    "closest_matching_extract = None\n",
    "\n",
    "try:\n",
    "    get_extract_by_query(\"pland\")\n",
    "except OsmExtractZeroMatchesError as ex:\n",
    "    rprint(Traceback.from_exception(type(ex), ex, None))\n",
    "    closest_matching_extract_name = ex.matching_full_names[0]\n",
    "    closest_matching_extract = get_extract_by_query(closest_matching_extract_name)\n",
    "\n",
    "closest_matching_extract"
   ]
  },
  {
   "cell_type": "markdown",
   "metadata": {},
   "source": [
    "Sometimes query can yield zero closest matches."
   ]
  },
  {
   "cell_type": "code",
   "execution_count": null,
   "metadata": {},
   "outputs": [],
   "source": [
    "try:\n",
    "    get_extract_by_query(\"totally_nonexistent_osm_extract\")\n",
    "except OsmExtractZeroMatchesError as ex:\n",
    "    rprint(Traceback.from_exception(type(ex), ex, None))"
   ]
  },
  {
   "cell_type": "markdown",
   "metadata": {},
   "source": [
    "## Find OSM extracts covering a given geometry\n",
    "\n",
    "One ot the most interesting feature of **QuackOSM** is the ability to automatically find extracts for a selected region without any domain knowledge of the services providing these extracts.\n",
    "\n",
    "Search algorithm tries to find the best matching extracts to cover a given geometry filter."
   ]
  },
  {
   "cell_type": "markdown",
   "metadata": {},
   "source": [
    "<style>\n",
    "  .jp-Mermaid {\n",
    "    display: block !important;\n",
    "  }\n",
    "  .mermaid {\n",
    "    display: flex;\n",
    "    justify-content: center;\n",
    "  }\n",
    "</style>\n",
    "\n",
    "### Flowchart\n",
    "\n",
    "Here is the flowchart diagram of the algorithm:\n",
    "\n",
    "```mermaid\n",
    "flowchart TD\n",
    "    A(Input Geometry)\n",
    "    B{\"Geometry\n",
    "        type?\"}\n",
    "    B1[Split to Polygons]\n",
    "\n",
    "    subgraph 1[\"For each Polygon (in a loop)\"]\n",
    "        D[\"Intersect Polygon\n",
    "            with OSM extracts\"]\n",
    "        E{\"Number of\n",
    "            matching\n",
    "            extracts?\"}\n",
    "        E1{\"`allow\n",
    "            uncovered\n",
    "            geometry`\"}\n",
    "        E3[Warn User]\n",
    "        F[\"Calculate IoU\n",
    "            between extracts\n",
    "            and a Polygon\"]\n",
    "        G[\"Select extract\n",
    "            with the highest\n",
    "            IoU value\"]\n",
    "        H{\"IoU >= threshold\"}\n",
    "        H1[Keep the extract]\n",
    "        H2[Discard the extract]\n",
    "        I[\"Remove the intersection\n",
    "            area from the Polygon\"]\n",
    "        J{Is Polygon empty?}\n",
    "        K(Exit loop)\n",
    "    end\n",
    "\n",
    "    E2(Raise Error)\n",
    "\n",
    "    L[\"Sort selected\n",
    "        extracts by area\n",
    "        descending\"]\n",
    "\n",
    "    subgraph 2[\"Filter selected extracts (for each Polygon in a loop)\"]\n",
    "        M[\"Initialize empty list\n",
    "            of filtered extracts\"]\n",
    "        N{\"Is next extract?\"}\n",
    "        N1[\"Select next extract\"]\n",
    "        N2(\"Exit loop\")\n",
    "        O{\"Is current extract\n",
    "            disjoint with Polygon?\"}\n",
    "        O1[\"Keep the extract\"]\n",
    "        O2[\"Discard the extract\"]\n",
    "        P[\"Remove the intersection\n",
    "            area from the Polygon\"]\n",
    "    end\n",
    "\n",
    "    Q[\"Join lists of\n",
    "        filtered extracts\"]\n",
    "\n",
    "    subgraph 3[\"Simplify filtered extracts\"]\n",
    "        R[\"Start iterating filtered extracts\"]\n",
    "        S{\"Is next extract?\"}\n",
    "        S1[\"Select next extract\"]\n",
    "        S2(\"Exit loop\")\n",
    "        T[\"Union geometries\n",
    "            of every other extract\"]\n",
    "        U{\"Is current\n",
    "            extract covered\n",
    "            by other extracts?\"}\n",
    "        U1[\"Discard the extract\"]\n",
    "        U2[\"Keep the extract\"]\n",
    "    end\n",
    "\n",
    "    V(\"Return simplified extracts\")\n",
    "\n",
    "\n",
    "\n",
    "    A --> B\n",
    "    B -- MultiPolygon --> B1\n",
    "    B -- Polygon --> D\n",
    "    B1 --> D\n",
    "    D --> E\n",
    "    E -- 0 --> E1\n",
    "    E1 -- true --> E3\n",
    "    E1 -- false ----> E2\n",
    "    E -- > 0 --> F\n",
    "    F --> G\n",
    "    G --> H\n",
    "    H -- Yes --> H1\n",
    "    H -- No --> H2\n",
    "    H1 --> I\n",
    "    H2 --> I\n",
    "    I --> J\n",
    "    J -- Yes --> K\n",
    "    J -- No --> D\n",
    "    E3 --> K\n",
    "    K --> L\n",
    "    L --> M\n",
    "    M --> N\n",
    "    N -- Yes --> N1\n",
    "    N -- No ------> N2\n",
    "    N1 --> O\n",
    "    O -- Yes --> O2\n",
    "    O -- No --> O1\n",
    "    O1 --> P\n",
    "    O2 --> N\n",
    "    P --> N\n",
    "    \n",
    "    N2 --> Q\n",
    "    Q --> R\n",
    "    R --> S\n",
    "    S -- Yes --> S1\n",
    "    S -- No -----> S2\n",
    "    S1 --> T\n",
    "    T --> U\n",
    "    U -- Yes --> U1\n",
    "    U -- No --> U2\n",
    "    U1 --> R\n",
    "    U2 --> S\n",
    "    S2 --> V\n",
    "  \n",
    "```"
   ]
  },
  {
   "cell_type": "markdown",
   "metadata": {},
   "source": [
    "### Bounding box within the city example"
   ]
  },
  {
   "cell_type": "code",
   "execution_count": null,
   "metadata": {},
   "outputs": [],
   "source": [
    "from quackosm.osm_extracts import _cover_geometry_with_extracts, _get_combined_index, _get_geofabrik_index\n",
    "from quackosm.geocode import geocode_to_geometry\n",
    "from quackosm.osm_extracts import find_smallest_containing_extracts_total, find_smallest_containing_geofabrik_extracts\n",
    "from shapely import from_wkt\n",
    "from shapely.geometry import shape"
   ]
  },
  {
   "cell_type": "code",
   "execution_count": null,
   "metadata": {},
   "outputs": [],
   "source": [
    "from typing import Optional\n",
    "from matplotlib import pyplot as plt\n",
    "import contextily as cx\n",
    "import geopandas as gpd\n",
    "from shapely import Polygon\n",
    "\n",
    "def plot_full_geometry_coverage_breakdown(geometry_filter: Polygon, index: Optional[gpd.GeoDataFrame] = None) -> None:\n",
    "    if index is None:\n",
    "        index = _get_combined_index()\n",
    "    extract_ids, iou_metrics = _cover_geometry_with_extracts(geometry_filter, index)\n",
    "    geometry_to_cover = geometry_filter.buffer(0)\n",
    "\n",
    "    total_extracts = len(extract_ids)\n",
    "    fig, axes = plt.subplots(nrows=total_extracts, ncols=4, figsize=(20, 5 * total_extracts))\n",
    "\n",
    "    close_up_bbox = geometry_to_cover.bounds\n",
    "    full_bbox = index[index[\"id\"].isin(extract_ids)].union_all().bounds\n",
    "\n",
    "    for ax_idx, (extract_id, iou_metric) in enumerate(zip(extract_ids, iou_metrics)):\n",
    "        iou_metric_above_threshold = iou_metric > 0.01\n",
    "\n",
    "        if total_extracts > 1:\n",
    "            combined_ax = axes[ax_idx, 0]\n",
    "            geometry_to_cover_ax = axes[ax_idx, 1]\n",
    "            intersection_geometry_ax = axes[ax_idx, 2]\n",
    "            extract_geometry_ax = axes[ax_idx, 3]\n",
    "        else:\n",
    "            combined_ax = axes[0]\n",
    "            geometry_to_cover_ax = axes[1]\n",
    "            intersection_geometry_ax = axes[2]\n",
    "            extract_geometry_ax = axes[3]\n",
    "\n",
    "        combined_ax.set_xlim([full_bbox[0], full_bbox[2]])\n",
    "        combined_ax.set_ylim([full_bbox[1], full_bbox[3]])\n",
    "\n",
    "        combined_ax.set_yticklabels([])\n",
    "        combined_ax.set_xticklabels([])\n",
    "        combined_ax.set_xticks([])\n",
    "        combined_ax.set_yticks([])\n",
    "\n",
    "        cx.add_basemap(combined_ax, source=cx.providers.CartoDB.Positron, crs=4326)\n",
    "\n",
    "        for ax in (geometry_to_cover_ax, intersection_geometry_ax, extract_geometry_ax):\n",
    "            ax.set_xlim([close_up_bbox[0], close_up_bbox[2]])\n",
    "            ax.set_ylim([close_up_bbox[1], close_up_bbox[3]])\n",
    "\n",
    "            ax.set_axis_off()\n",
    "\n",
    "            cx.add_basemap(ax, source=cx.providers.CartoDB.PositronNoLabels, crs=4326)\n",
    "\n",
    "        extract_row = index[index[\"id\"] == extract_id].iloc[0]\n",
    "        combined_ax.set_title(extract_row[\"file_name\"])\n",
    "        if ax_idx == 0:\n",
    "            combined_ax.set_ylabel(f\"Step {ax_idx + 1} (always accepted)\")\n",
    "        else:\n",
    "            combined_ax.set_ylabel(\n",
    "                f'Step {ax_idx + 1} ({\"accepted\" if iou_metric_above_threshold else \"discarded\"})'\n",
    "            )\n",
    "\n",
    "        geometry_to_cover_ax.set_title(\"Geometry to cover\")\n",
    "        extract_geometry_ax.set_title(\"Extract geometry close-up\")\n",
    "        intersection_geometry_ax.set_title(f\"Intersection (IoU: {iou_metric:.3g})\")\n",
    "\n",
    "        extract_geometry = extract_row[\"geometry\"]\n",
    "        intersection_geometry = extract_geometry.intersection(geometry_to_cover)\n",
    "        gpd.GeoSeries([geometry_to_cover], crs=4326).plot(\n",
    "            ax=geometry_to_cover_ax, color=\"C0\", alpha=0.8\n",
    "        )\n",
    "        gpd.GeoSeries([geometry_to_cover], crs=4326).plot(ax=combined_ax, color=\"C0\", alpha=0.8)\n",
    "\n",
    "        gpd.GeoSeries([extract_geometry], crs=4326).plot(\n",
    "            ax=combined_ax,\n",
    "            color=\"C2\" if (iou_metric_above_threshold or ax_idx == 0) else \"C3\",\n",
    "            alpha=0.4,\n",
    "            zorder=1,\n",
    "        )\n",
    "        gpd.GeoSeries([extract_geometry], crs=4326).plot(\n",
    "            ax=extract_geometry_ax,\n",
    "            color=\"C2\" if (iou_metric_above_threshold or ax_idx == 0) else \"C3\",\n",
    "            alpha=0.4,\n",
    "            zorder=1,\n",
    "        )\n",
    "\n",
    "        gpd.GeoSeries([intersection_geometry], crs=4326).plot(\n",
    "            ax=combined_ax,\n",
    "            color=(0, 0, 0, 0),\n",
    "            zorder=2,\n",
    "            hatch=\"///\",\n",
    "            edgecolor=\"C1\",\n",
    "            linewidth=1.5,\n",
    "        )\n",
    "\n",
    "        gpd.GeoSeries([intersection_geometry], crs=4326).plot(\n",
    "            ax=intersection_geometry_ax,\n",
    "            color=(0, 0, 0, 0),\n",
    "            zorder=2,\n",
    "            hatch=\"///\",\n",
    "            edgecolor=\"C1\",\n",
    "            linewidth=1.5,\n",
    "        )\n",
    "\n",
    "        geometry_to_cover = geometry_to_cover.difference(intersection_geometry)\n",
    "\n",
    "    fig.tight_layout()\n",
    "\n",
    "    plt.show()"
   ]
  },
  {
   "cell_type": "code",
   "execution_count": null,
   "metadata": {},
   "outputs": [],
   "source": [
    "geometry_filter = geocode_to_geometry(\"Monaco-Ville, Monaco\")\n",
    "matched_extracts = find_smallest_containing_extracts_total(geometry_filter)\n",
    "plot_full_geometry_coverage_breakdown(geometry_filter)\n",
    "matched_extracts"
   ]
  },
  {
   "cell_type": "code",
   "execution_count": null,
   "metadata": {},
   "outputs": [],
   "source": [
    "geometry_filter = geocode_to_geometry(\"Monaco\")\n",
    "matched_extracts = find_smallest_containing_geofabrik_extracts(geometry_filter)\n",
    "plot_full_geometry_coverage_breakdown(geometry_filter, _get_geofabrik_index())\n",
    "matched_extracts"
   ]
  },
  {
   "cell_type": "code",
   "execution_count": null,
   "metadata": {},
   "outputs": [],
   "source": [
    "geometry_filter = from_wkt(\n",
    "    \"POLYGON ((1.382599544073372 42.67676873293743, 1.382599544073372 42.40065303248514,\"\n",
    "    \" 1.8092269635579328 42.40065303248514, 1.8092269635579328 42.67676873293743,\"\n",
    "    \" 1.382599544073372 42.67676873293743))\"\n",
    ")\n",
    "matched_extracts = find_smallest_containing_extracts_total(geometry_filter)\n",
    "plot_full_geometry_coverage_breakdown(geometry_filter)\n",
    "matched_extracts"
   ]
  },
  {
   "cell_type": "code",
   "execution_count": null,
   "metadata": {},
   "outputs": [],
   "source": [
    "geometry_filter = shape(\n",
    "    {\n",
    "        \"type\": \"Polygon\",\n",
    "        \"coordinates\": [\n",
    "            [\n",
    "                [-122.04132711751888, 39.47952317060893],\n",
    "                [-122.04132711751888, 38.586779237435586],\n",
    "                [-121.15664232594925, 38.586779237435586],\n",
    "                [-121.15664232594925, 39.47952317060893],\n",
    "                [-122.04132711751888, 39.47952317060893],\n",
    "            ]\n",
    "        ],\n",
    "    }\n",
    ")\n",
    "matched_extracts = find_smallest_containing_extracts_total(geometry_filter)\n",
    "plot_full_geometry_coverage_breakdown(geometry_filter)\n",
    "matched_extracts"
   ]
  }
 ],
 "metadata": {
  "kernelspec": {
   "display_name": ".venv",
   "language": "python",
   "name": "python3"
  },
  "language_info": {
   "codemirror_mode": {
    "name": "ipython",
    "version": 3
   },
   "file_extension": ".py",
   "mimetype": "text/x-python",
   "name": "python",
   "nbconvert_exporter": "python",
   "pygments_lexer": "ipython3",
   "version": "3.10.12"
  }
 },
 "nbformat": 4,
 "nbformat_minor": 2
}
