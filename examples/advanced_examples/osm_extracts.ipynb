{
 "cells": [
  {
   "cell_type": "markdown",
   "metadata": {},
   "source": [
    "# OpenStreetMap extracts\n",
    "\n",
    "**QuackOSM** exposes a simple API allowing user to download OSM extracts from multiple sources.\n",
    "\n",
    "This example notebook shows how to: \n",
    " - display available extracts,\n",
    " - download extract by name,\n",
    " - get extracts covering a given geometry. // TODO"
   ]
  },
  {
   "cell_type": "markdown",
   "metadata": {},
   "source": [
    "<style>\n",
    "div.jp-Cell-outputArea pre {\n",
    "  overflow-y: auto;\n",
    "  max-height: 50vh;\n",
    "}\n",
    "</style>"
   ]
  },
  {
   "cell_type": "markdown",
   "metadata": {},
   "source": [
    "## Display available OSM extracts\n",
    "\n",
    "Extracts have short name and a full name. Short name is just a current description of the region (eg. `Monaco`). Full name contains information about the extract source and all a whole nesting hierarchy (eg. `geofabrik_europe_monaco`).\n",
    "\n",
    "By default, function for displaying those extracts shows short name. In these examples below full names have been used."
   ]
  },
  {
   "cell_type": "code",
   "execution_count": null,
   "metadata": {},
   "outputs": [],
   "source": [
    "from quackosm.osm_extracts import display_available_extracts, OsmExtractSource"
   ]
  },
  {
   "cell_type": "markdown",
   "metadata": {},
   "source": [
    "### Geofabrik"
   ]
  },
  {
   "cell_type": "code",
   "execution_count": null,
   "metadata": {},
   "outputs": [],
   "source": [
    "display_available_extracts(OsmExtractSource.geofabrik, use_full_names=True)"
   ]
  },
  {
   "cell_type": "markdown",
   "metadata": {},
   "source": [
    "### OpenStreetMap FR"
   ]
  },
  {
   "cell_type": "code",
   "execution_count": null,
   "metadata": {},
   "outputs": [],
   "source": [
    "display_available_extracts(OsmExtractSource.osm_fr, use_full_names=True)"
   ]
  },
  {
   "cell_type": "markdown",
   "metadata": {},
   "source": [
    "### BBBike"
   ]
  },
  {
   "cell_type": "code",
   "execution_count": null,
   "metadata": {},
   "outputs": [],
   "source": [
    "display_available_extracts(OsmExtractSource.bbbike, use_full_names=True)"
   ]
  },
  {
   "cell_type": "markdown",
   "metadata": {},
   "source": [
    "## Download OSM extract by name"
   ]
  },
  {
   "cell_type": "code",
   "execution_count": null,
   "metadata": {},
   "outputs": [],
   "source": [
    "from quackosm import convert_osm_extract_to_geodataframe"
   ]
  },
  {
   "cell_type": "markdown",
   "metadata": {},
   "source": [
    "### Monaco extract from Geofabrik\n",
    "\n",
    "Download data for the country of Monaco from the `Geofabrik` repository."
   ]
  },
  {
   "cell_type": "code",
   "execution_count": null,
   "metadata": {},
   "outputs": [],
   "source": [
    "convert_osm_extract_to_geodataframe(\"monaco\", osm_extract_source=\"geofabrik\")"
   ]
  },
  {
   "cell_type": "markdown",
   "metadata": {},
   "source": [
    "### Vatican city\n",
    "\n",
    "Download data for the Vatican city from any repository. Only `OpenStreetMap.fr` contains data for this query."
   ]
  },
  {
   "cell_type": "code",
   "execution_count": null,
   "metadata": {},
   "outputs": [],
   "source": [
    "convert_osm_extract_to_geodataframe(\"vatican_city\")"
   ]
  },
  {
   "cell_type": "markdown",
   "metadata": {},
   "source": [
    "### Query with multiple matches\n",
    "\n",
    "Some extracts have the same name, or the same extract is available in multiple sources. Trying to get an extract by name with multiple matches will result in an error with list of extracts ids that can be used to get a specific one."
   ]
  },
  {
   "cell_type": "markdown",
   "metadata": {},
   "source": [
    "Getting a **Ceuta** region (sutonomous city of Spain bordering with Marocco).\n",
    "\n",
    "Extract for this region is available both in Geofabrik and OSM fr sources."
   ]
  },
  {
   "cell_type": "code",
   "execution_count": null,
   "metadata": {},
   "outputs": [],
   "source": [
    "from rich import print as rprint\n",
    "from rich.traceback import Traceback\n",
    "\n",
    "from quackosm._exceptions import OsmExtractMultipleMatchesError\n",
    "\n",
    "try:\n",
    "    convert_osm_extract_to_geodataframe(\"ceuta\")\n",
    "except OsmExtractMultipleMatchesError as ex:\n",
    "    rprint(Traceback.from_exception(type(ex), ex, None))"
   ]
  },
  {
   "cell_type": "markdown",
   "metadata": {},
   "source": [
    "`OsmExtractMultipleMatchesError` has a property `matching_full_names` with a list of found extracts full names. It can be used programatically to access those values."
   ]
  },
  {
   "cell_type": "code",
   "execution_count": null,
   "metadata": {},
   "outputs": [],
   "source": [
    "from quackosm.osm_extracts import get_extract_by_query\n",
    "\n",
    "matched_extracts = []\n",
    "\n",
    "try:\n",
    "    get_extract_by_query(\"ceuta\")\n",
    "except OsmExtractMultipleMatchesError as ex:\n",
    "    for full_name in ex.matching_full_names:\n",
    "        matched_extracts.append(get_extract_by_query(full_name))\n",
    "\n",
    "matched_extracts"
   ]
  },
  {
   "cell_type": "markdown",
   "metadata": {},
   "source": [
    "We can display both extracts extents on the map."
   ]
  },
  {
   "cell_type": "code",
   "execution_count": null,
   "metadata": {},
   "outputs": [],
   "source": [
    "import geopandas as gpd\n",
    "\n",
    "gpd.GeoDataFrame(\n",
    "    data=dict(id=[extract.id for extract in matched_extracts]),\n",
    "    geometry=[extract.geometry for extract in matched_extracts],\n",
    "    crs=4326,\n",
    ").explore(column=\"id\", tiles=\"CartoDB positron\")"
   ]
  },
  {
   "cell_type": "markdown",
   "metadata": {},
   "source": [
    "Let's download data for the extract from the OpenStreetMap.fr."
   ]
  },
  {
   "cell_type": "code",
   "execution_count": null,
   "metadata": {},
   "outputs": [],
   "source": [
    "convert_osm_extract_to_geodataframe(\"osmfr_africa_spain_ceuta\")"
   ]
  },
  {
   "cell_type": "markdown",
   "metadata": {},
   "source": [
    "### Query with zero matches\n",
    "\n",
    "Sometimes query doesn't match any of the available extracts.\n",
    "Function for finding the extracts, automatically detects close names in case this was a typo and suggests them to the user. Suggestions are sorted based on the closeness to the query."
   ]
  },
  {
   "cell_type": "code",
   "execution_count": null,
   "metadata": {},
   "outputs": [],
   "source": [
    "from quackosm._exceptions import OsmExtractZeroMatchesError\n",
    "\n",
    "try:\n",
    "    convert_osm_extract_to_geodataframe(\"Gremany\")\n",
    "except OsmExtractZeroMatchesError as ex:\n",
    "    rprint(Traceback.from_exception(type(ex), ex, None))"
   ]
  },
  {
   "cell_type": "markdown",
   "metadata": {},
   "source": [
    "`OsmExtractZeroMatchesError` has a property `matching_full_names` with a list of suggested matching names. It can be used programatically to access those values."
   ]
  },
  {
   "cell_type": "code",
   "execution_count": null,
   "metadata": {},
   "outputs": [],
   "source": [
    "closest_matching_extract = None\n",
    "\n",
    "try:\n",
    "    get_extract_by_query(\"pland\")\n",
    "except OsmExtractZeroMatchesError as ex:\n",
    "    rprint(Traceback.from_exception(type(ex), ex, None))\n",
    "    closest_matching_extract = get_extract_by_query(ex.matching_full_names[0])\n",
    "\n",
    "closest_matching_extract"
   ]
  },
  {
   "cell_type": "markdown",
   "metadata": {},
   "source": [
    "Sometimes query can yield zero closest matches."
   ]
  },
  {
   "cell_type": "code",
   "execution_count": null,
   "metadata": {},
   "outputs": [],
   "source": [
    "try:\n",
    "    get_extract_by_query(\"totally_nonexistent_osm_extract\")\n",
    "except OsmExtractZeroMatchesError as ex:\n",
    "    rprint(Traceback.from_exception(type(ex), ex, None))"
   ]
  }
 ],
 "metadata": {
  "kernelspec": {
   "display_name": ".venv",
   "language": "python",
   "name": "python3"
  },
  "language_info": {
   "codemirror_mode": {
    "name": "ipython",
    "version": 3
   },
   "file_extension": ".py",
   "mimetype": "text/x-python",
   "name": "python",
   "nbconvert_exporter": "python",
   "pygments_lexer": "ipython3",
   "version": "3.10.12"
  }
 },
 "nbformat": 4,
 "nbformat_minor": 2
}
