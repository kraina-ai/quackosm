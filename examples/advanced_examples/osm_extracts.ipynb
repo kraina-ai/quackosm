{
 "cells": [
  {
   "cell_type": "markdown",
   "metadata": {},
   "source": [
    "# OpenStreetMap extracts\n",
    "\n",
    "**QuackOSM** exposes a simple API allowing user to download OSM extracts from multiple sources.\n",
    "\n",
    "This example notebook shows how to: \n",
    " - display available extracts,\n",
    " - query extracts by name,\n",
    " - find extracts covering a given geometry."
   ]
  },
  {
   "cell_type": "markdown",
   "metadata": {},
   "source": [
    "<style>\n",
    "div.jp-Cell-outputArea pre {\n",
    "  overflow-y: auto;\n",
    "  max-height: 50vh;\n",
    "}\n",
    "</style>"
   ]
  },
  {
   "cell_type": "markdown",
   "metadata": {},
   "source": [
    "## Display available OSM extracts\n",
    "\n",
    "Extracts have short name and a full name. Short name is just a current description of the region (eg. `Monaco`). Full name contains information about the extract source and all a whole nesting hierarchy (eg. `geofabrik_europe_monaco`).\n",
    "\n",
    "By default, function for displaying those extracts shows short name. In these examples below full names have been used."
   ]
  },
  {
   "cell_type": "code",
   "execution_count": null,
   "metadata": {},
   "outputs": [],
   "source": [
    "from quackosm.osm_extracts import display_available_extracts, OsmExtractSource"
   ]
  },
  {
   "cell_type": "markdown",
   "metadata": {},
   "source": [
    "### Geofabrik"
   ]
  },
  {
   "cell_type": "code",
   "execution_count": null,
   "metadata": {},
   "outputs": [],
   "source": [
    "display_available_extracts(OsmExtractSource.geofabrik)"
   ]
  },
  {
   "cell_type": "markdown",
   "metadata": {},
   "source": [
    "### OpenStreetMap FR"
   ]
  },
  {
   "cell_type": "code",
   "execution_count": null,
   "metadata": {},
   "outputs": [],
   "source": [
    "display_available_extracts(OsmExtractSource.osm_fr)"
   ]
  },
  {
   "cell_type": "markdown",
   "metadata": {},
   "source": [
    "### BBBike"
   ]
  },
  {
   "cell_type": "code",
   "execution_count": null,
   "metadata": {},
   "outputs": [],
   "source": [
    "display_available_extracts(OsmExtractSource.bbbike)"
   ]
  },
  {
   "cell_type": "markdown",
   "metadata": {},
   "source": [
    "## Query OSM extract by name"
   ]
  },
  {
   "cell_type": "code",
   "execution_count": null,
   "metadata": {},
   "outputs": [],
   "source": [
    "from quackosm import convert_osm_extract_to_geodataframe"
   ]
  },
  {
   "cell_type": "markdown",
   "metadata": {},
   "source": [
    "### Vatican city\n",
    "\n",
    "Download data for the Vatican city from any repository. Only `OpenStreetMap.fr` contains data for this query."
   ]
  },
  {
   "cell_type": "code",
   "execution_count": null,
   "metadata": {},
   "outputs": [],
   "source": [
    "convert_osm_extract_to_geodataframe(\"Vatican City\")"
   ]
  },
  {
   "cell_type": "markdown",
   "metadata": {},
   "source": [
    "### Monaco extract from Geofabrik\n",
    "\n",
    "Download data for the country of Monaco from the `Geofabrik` repository."
   ]
  },
  {
   "cell_type": "code",
   "execution_count": null,
   "metadata": {},
   "outputs": [],
   "source": [
    "convert_osm_extract_to_geodataframe(\"Monaco\", osm_extract_source=\"Geofabrik\")"
   ]
  },
  {
   "cell_type": "markdown",
   "metadata": {},
   "source": [
    "### Query with multiple matches\n",
    "\n",
    "Some extracts have the same name, or the same extract is available in multiple sources. Trying to get an extract by name with multiple matches will result in an error with list of extracts ids that can be used to get a specific one."
   ]
  },
  {
   "cell_type": "markdown",
   "metadata": {},
   "source": [
    "Getting a **Ceuta** region (autonomous city of Spain bordering with Marocco).\n",
    "\n",
    "Extract for this region is available both in Geofabrik and OSM fr sources."
   ]
  },
  {
   "cell_type": "code",
   "execution_count": null,
   "metadata": {},
   "outputs": [],
   "source": [
    "from rich import print as rprint\n",
    "from rich.traceback import Traceback\n",
    "\n",
    "from quackosm._exceptions import OsmExtractMultipleMatchesError\n",
    "\n",
    "try:\n",
    "    convert_osm_extract_to_geodataframe(\"Ceuta\")\n",
    "except OsmExtractMultipleMatchesError as ex:\n",
    "    rprint(Traceback.from_exception(type(ex), ex, None))"
   ]
  },
  {
   "cell_type": "markdown",
   "metadata": {},
   "source": [
    "`OsmExtractMultipleMatchesError` has a property `matching_full_names` with a list of found extracts full names. It can be used programatically to access those values."
   ]
  },
  {
   "cell_type": "code",
   "execution_count": null,
   "metadata": {},
   "outputs": [],
   "source": [
    "from quackosm.osm_extracts import get_extract_by_query\n",
    "\n",
    "matched_extracts = []\n",
    "\n",
    "try:\n",
    "    get_extract_by_query(\"Ceuta\")\n",
    "except OsmExtractMultipleMatchesError as ex:\n",
    "    for full_name in ex.matching_full_names:\n",
    "        matched_extracts.append(get_extract_by_query(full_name))\n",
    "\n",
    "matched_extracts"
   ]
  },
  {
   "cell_type": "markdown",
   "metadata": {},
   "source": [
    "We can display both extracts extents on the map."
   ]
  },
  {
   "cell_type": "code",
   "execution_count": null,
   "metadata": {},
   "outputs": [],
   "source": [
    "import geopandas as gpd\n",
    "\n",
    "gpd.GeoDataFrame(\n",
    "    data=dict(id=[extract.id for extract in matched_extracts]),\n",
    "    geometry=[extract.geometry for extract in matched_extracts],\n",
    "    crs=4326,\n",
    ").explore(column=\"id\", tiles=\"CartoDB positron\")"
   ]
  },
  {
   "cell_type": "markdown",
   "metadata": {},
   "source": [
    "Let's download data for the extract from the OpenStreetMap.fr."
   ]
  },
  {
   "cell_type": "code",
   "execution_count": null,
   "metadata": {},
   "outputs": [],
   "source": [
    "convert_osm_extract_to_geodataframe(\"osmfr_africa_spain_ceuta\")"
   ]
  },
  {
   "cell_type": "markdown",
   "metadata": {},
   "source": [
    "### Query with zero matches\n",
    "\n",
    "Sometimes query doesn't match any of the available extracts.\n",
    "Function for finding the extracts, automatically detects close names in case this was a typo and suggests them to the user. Suggestions are sorted based on the closeness to the query."
   ]
  },
  {
   "cell_type": "code",
   "execution_count": null,
   "metadata": {},
   "outputs": [],
   "source": [
    "from quackosm._exceptions import OsmExtractZeroMatchesError\n",
    "\n",
    "try:\n",
    "    convert_osm_extract_to_geodataframe(\"Gremany\")\n",
    "except OsmExtractZeroMatchesError as ex:\n",
    "    rprint(Traceback.from_exception(type(ex), ex, None))"
   ]
  },
  {
   "cell_type": "markdown",
   "metadata": {},
   "source": [
    "`OsmExtractZeroMatchesError` has a property `matching_full_names` with a list of suggested matching names. It can be used programatically to access those values."
   ]
  },
  {
   "cell_type": "code",
   "execution_count": null,
   "metadata": {},
   "outputs": [],
   "source": [
    "closest_matching_extract = None\n",
    "\n",
    "try:\n",
    "    get_extract_by_query(\"pland\")\n",
    "except OsmExtractZeroMatchesError as ex:\n",
    "    rprint(Traceback.from_exception(type(ex), ex, None))\n",
    "    closest_matching_extract_name = ex.matching_full_names[0]\n",
    "    closest_matching_extract = get_extract_by_query(closest_matching_extract_name)\n",
    "\n",
    "closest_matching_extract"
   ]
  },
  {
   "cell_type": "markdown",
   "metadata": {},
   "source": [
    "Sometimes query can yield zero closest matches."
   ]
  },
  {
   "cell_type": "code",
   "execution_count": null,
   "metadata": {},
   "outputs": [],
   "source": [
    "try:\n",
    "    get_extract_by_query(\"totally_nonexistent_osm_extract\")\n",
    "except OsmExtractZeroMatchesError as ex:\n",
    "    rprint(Traceback.from_exception(type(ex), ex, None))"
   ]
  },
  {
   "cell_type": "markdown",
   "metadata": {},
   "source": [
    "## Find OSM extracts covering a given geometry\n",
    "\n",
    "One ot the most interesting feature of **QuackOSM** is the ability to automatically find extracts for a selected region without any domain knowledge of the services providing these extracts.\n",
    "\n",
    "Search algorithm tries to find the best matching extracts to cover a given geometry filter."
   ]
  },
  {
   "cell_type": "markdown",
   "metadata": {},
   "source": [
    "<style>\n",
    "  .jp-Mermaid {\n",
    "    display: block !important;\n",
    "  }\n",
    "  .mermaid {\n",
    "    display: flex;\n",
    "    justify-content: center;\n",
    "  }\n",
    "</style>\n",
    "\n",
    "### Flowchart\n",
    "\n",
    "Here is the flowchart diagram of the algorithm:\n",
    "\n",
    "```mermaid\n",
    "flowchart TD\n",
    "    A(Input Geometry)\n",
    "    B{\"Geometry\n",
    "        type?\"}\n",
    "    B1[Split to Polygons]\n",
    "\n",
    "    subgraph 1[\"For each Polygon (in a loop)\"]\n",
    "        D[\"Intersect Polygon\n",
    "            with OSM extracts\"]\n",
    "        E{\"Number of\n",
    "            matching\n",
    "            extracts?\"}\n",
    "        E1{\"`allow\n",
    "            uncovered\n",
    "            geometry`\"}\n",
    "        E3[Warn User]\n",
    "        F[\"Calculate IoU\n",
    "            between extracts\n",
    "            and a Polygon\"]\n",
    "        G[\"Select extract\n",
    "            with the highest\n",
    "            IoU value\"]\n",
    "        H{\"IoU >= threshold\"}\n",
    "        H1[Keep the extract]\n",
    "        H2[Discard the extract]\n",
    "        I[\"Remove the intersection\n",
    "            area from the Polygon\"]\n",
    "        J{Is Polygon empty?}\n",
    "        K(Exit loop)\n",
    "    end\n",
    "\n",
    "    E2(Raise Error)\n",
    "\n",
    "    L[\"Sort selected\n",
    "        extracts by area\n",
    "        descending\"]\n",
    "\n",
    "    subgraph 2[\"Filter selected extracts (for each Polygon in a loop)\"]\n",
    "        M[\"Initialize empty list\n",
    "            of filtered extracts\"]\n",
    "        N{\"Is next extract?\"}\n",
    "        N1[\"Select next extract\"]\n",
    "        N2(\"Exit loop\")\n",
    "        O{\"Is current extract\n",
    "            disjoint with Polygon?\"}\n",
    "        O1[\"Keep the extract\"]\n",
    "        O2[\"Discard the extract\"]\n",
    "        P[\"Remove the intersection\n",
    "            area from the Polygon\"]\n",
    "    end\n",
    "\n",
    "    Q[\"Join lists of\n",
    "        filtered extracts\"]\n",
    "\n",
    "    subgraph 3[\"Simplify filtered extracts\"]\n",
    "        R[\"Start iterating filtered extracts\"]\n",
    "        S{\"Is next extract?\"}\n",
    "        S1[\"Select next extract\"]\n",
    "        S2(\"Exit loop\")\n",
    "        T[\"Union geometries\n",
    "            of every other extract\"]\n",
    "        U{\"Is current\n",
    "            extract covered\n",
    "            by other extracts?\"}\n",
    "        U1[\"Discard the extract\"]\n",
    "        U2[\"Keep the extract\"]\n",
    "    end\n",
    "\n",
    "    V(\"Return simplified extracts\")\n",
    "\n",
    "\n",
    "\n",
    "    A --> B\n",
    "    B -- MultiPolygon --> B1\n",
    "    B -- Polygon --> D\n",
    "    B1 --> D\n",
    "    D --> E\n",
    "    E -- 0 --> E1\n",
    "    E1 -- true --> E3\n",
    "    E1 -- false ----> E2\n",
    "    E -- > 0 --> F\n",
    "    F --> G\n",
    "    G --> H\n",
    "    H -- Yes --> H1\n",
    "    H -- No --> H2\n",
    "    H1 --> I\n",
    "    H2 --> I\n",
    "    I --> J\n",
    "    J -- Yes --> K\n",
    "    J -- No --> D\n",
    "    E3 --> K\n",
    "    K --> L\n",
    "    L --> M\n",
    "    M --> N\n",
    "    N -- Yes --> N1\n",
    "    N -- No ------> N2\n",
    "    N1 --> O\n",
    "    O -- Yes --> O2\n",
    "    O -- No --> O1\n",
    "    O1 --> P\n",
    "    O2 --> N\n",
    "    P --> N\n",
    "    \n",
    "    N2 --> Q\n",
    "    Q --> R\n",
    "    R --> S\n",
    "    S -- Yes --> S1\n",
    "    S -- No -----> S2\n",
    "    S1 --> T\n",
    "    T --> U\n",
    "    U -- Yes --> U1\n",
    "    U -- No --> U2\n",
    "    U1 --> R\n",
    "    U2 --> S\n",
    "    S2 --> V\n",
    "  \n",
    "```"
   ]
  },
  {
   "cell_type": "code",
   "execution_count": null,
   "metadata": {},
   "outputs": [],
   "source": []
  }
 ],
 "metadata": {
  "kernelspec": {
   "display_name": ".venv",
   "language": "python",
   "name": "python3"
  },
  "language_info": {
   "codemirror_mode": {
    "name": "ipython",
    "version": 3
   },
   "file_extension": ".py",
   "mimetype": "text/x-python",
   "name": "python",
   "nbconvert_exporter": "python",
   "pygments_lexer": "ipython3",
   "version": "3.11.7"
  }
 },
 "nbformat": 4,
 "nbformat_minor": 2
}
