{
 "cells": [
  {
   "cell_type": "code",
   "execution_count": null,
   "metadata": {},
   "outputs": [],
   "source": [
    "import quackosm as qosm\n",
    "import psutil\n",
    "from pathlib import Path\n",
    "from multiprocessing.pool import ThreadPool\n",
    "import time\n",
    "from pooch import retrieve\n",
    "import tempfile\n",
    "import seaborn as sns\n",
    "import matplotlib.pyplot as plt\n",
    "import matplotlib.ticker as tkr"
   ]
  },
  {
   "cell_type": "code",
   "execution_count": null,
   "metadata": {},
   "outputs": [],
   "source": [
    "def get_cpu_percentage() -> tuple[float, float]:\n",
    "    \"\"\"Get CPU usage.\"\"\"\n",
    "    return (psutil.cpu_percent(interval=None), round(time.time(), 2))\n",
    "\n",
    "\n",
    "def get_memory_percentage() -> tuple[float, float]:\n",
    "    \"\"\"Get RAM usage.\"\"\"\n",
    "    return (psutil.virtual_memory().percent, round(time.time(), 2))\n",
    "\n",
    "\n",
    "def get_directory_bytes_size(directory: Path) -> tuple[float, float]:\n",
    "    \"\"\"Get directory size in bytes.\"\"\"\n",
    "    while True:\n",
    "        try:\n",
    "            return (sum(f.stat().st_size for f in Path(directory).rglob(\"*\")), round(time.time(), 2))\n",
    "        except:\n",
    "            pass"
   ]
  },
  {
   "cell_type": "code",
   "execution_count": null,
   "metadata": {},
   "outputs": [],
   "source": [
    "get_cpu_percentage()"
   ]
  },
  {
   "cell_type": "code",
   "execution_count": null,
   "metadata": {},
   "outputs": [],
   "source": [
    "get_memory_percentage()"
   ]
  },
  {
   "cell_type": "code",
   "execution_count": null,
   "metadata": {},
   "outputs": [],
   "source": [
    "get_directory_bytes_size('files')"
   ]
  },
  {
   "cell_type": "code",
   "execution_count": null,
   "metadata": {},
   "outputs": [],
   "source": [
    "def _execute_example(pbf_path, working_directory) -> None:\n",
    "    print(\n",
    "        qosm.convert_pbf_to_gpq(\n",
    "            pbf_path=pbf_path, working_directory=working_directory, ignore_cache=True\n",
    "        )\n",
    "    )\n",
    "\n",
    "\n",
    "def _sizeof_fmt(x, pos):\n",
    "    if x < 0:\n",
    "        return \"\"\n",
    "    for x_unit in [\"bytes\", \"kB\", \"MB\", \"GB\", \"TB\"]:\n",
    "        if x < 1024.0:\n",
    "            return \"%3.1f %s\" % (x, x_unit)\n",
    "        x /= 1024.0\n",
    "\n",
    "\n",
    "def run_example(example_name: str, pbf_download_url: str) -> None:\n",
    "    \"\"\"Run example and monitor usage.\"\"\"\n",
    "    memory_values = []\n",
    "    cpu_values = []\n",
    "    disk_values = []\n",
    "\n",
    "    downloaded_file = retrieve(url=pbf_download_url, known_hash=None)\n",
    "\n",
    "    Path(\"files\").mkdir(parents=True, exist_ok=True)\n",
    "\n",
    "    with tempfile.TemporaryDirectory(dir=\"files\") as tmp_dir_name:\n",
    "        start_time = round(time.time(), 2)\n",
    "        memory_values.append(get_memory_percentage())\n",
    "        cpu_values.append(get_cpu_percentage())\n",
    "        disk_values.append(get_directory_bytes_size(tmp_dir_name))\n",
    "\n",
    "        time.sleep(0.1)\n",
    "\n",
    "        memory_values.append(get_memory_percentage())\n",
    "        cpu_values.append(get_cpu_percentage())\n",
    "        disk_values.append(get_directory_bytes_size(tmp_dir_name))\n",
    "\n",
    "        with ThreadPool() as pool:\n",
    "            r = pool.apply_async(_execute_example, args=(downloaded_file, tmp_dir_name))\n",
    "            while not r.ready():\n",
    "                memory_values.append(get_memory_percentage())\n",
    "                cpu_values.append(get_cpu_percentage())\n",
    "                disk_values.append(get_directory_bytes_size(tmp_dir_name))\n",
    "            r.get()\n",
    "\n",
    "    time.sleep(0.1)\n",
    "\n",
    "    memory_values.append(get_memory_percentage())\n",
    "    cpu_values.append(get_cpu_percentage())\n",
    "    disk_values.append(get_directory_bytes_size(tmp_dir_name))\n",
    "\n",
    "    memory_values_adjusted = [(val, ts - start_time) for val, ts in memory_values]\n",
    "    cpu_values_adjusted = [(val, ts - start_time) for val, ts in cpu_values]\n",
    "    disk_values_adjusted = [(val, ts - start_time) for val, ts in disk_values]\n",
    "\n",
    "    fig, ax = plt.subplots(3, sharex=True, figsize=(15, 10))\n",
    "\n",
    "    # sns.set_theme(style=\"ticks\")\n",
    "    sns.set_theme(style=\"darkgrid\")\n",
    "\n",
    "    mem_val, mem_times = zip(*memory_values_adjusted)\n",
    "    cpu_val, cpu_times = zip(*cpu_values_adjusted)\n",
    "    dsk_val, dsk_times = zip(*disk_values_adjusted)\n",
    "\n",
    "    sns.lineplot(x=mem_times, y=cpu_val, ax=ax[0])\n",
    "    sns.lineplot(x=cpu_times, y=mem_val, ax=ax[1])\n",
    "    sns.lineplot(x=dsk_times, y=dsk_val, ax=ax[2])\n",
    "\n",
    "    pbf_file_size = Path(downloaded_file).stat().st_size\n",
    "    ax[2].hlines(y=pbf_file_size, xmin=dsk_times[0], xmax=dsk_times[-1], color=\"r\", linestyles=\"--\")\n",
    "    ax[2].yaxis.set_major_formatter(tkr.FuncFormatter(_sizeof_fmt))\n",
    "\n",
    "    ax[0].set_ylabel(\"CPU usage %\")\n",
    "    ax[1].set_ylabel(\"Memory usage %\")\n",
    "    ax[2].set_ylabel(\"Disk usage\")\n",
    "\n",
    "    ax[2].set_xlabel(\"Time (s)\")\n",
    "\n",
    "    plt.suptitle(f\"Resources usage - {example_name}.osm.pbf file\")\n",
    "\n",
    "    plt.tight_layout()\n",
    "\n",
    "    plt.savefig(f\"{example_name}.png\", bbox_inches=\"tight\")"
   ]
  },
  {
   "cell_type": "code",
   "execution_count": null,
   "metadata": {},
   "outputs": [],
   "source": [
    "run_example(\"Monaco\", \"https://download.geofabrik.de/europe/monaco-latest.osm.pbf\")"
   ]
  }
 ],
 "metadata": {
  "kernelspec": {
   "display_name": ".venv",
   "language": "python",
   "name": "python3"
  },
  "language_info": {
   "codemirror_mode": {
    "name": "ipython",
    "version": 3
   },
   "file_extension": ".py",
   "mimetype": "text/x-python",
   "name": "python",
   "nbconvert_exporter": "python",
   "pygments_lexer": "ipython3",
   "version": "3.11.7"
  }
 },
 "nbformat": 4,
 "nbformat_minor": 2
}
